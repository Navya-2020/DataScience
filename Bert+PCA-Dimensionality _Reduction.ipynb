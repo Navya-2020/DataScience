{
  "cells": [
    {
      "cell_type": "markdown",
      "metadata": {
        "id": "Mwd8-gpuqIcZ"
      },
      "source": [
        "Installations\n"
      ]
    },
    {
      "cell_type": "code",
      "execution_count": null,
      "metadata": {
        "colab": {
          "base_uri": "https://localhost:8080/"
        },
        "id": "KQs6iKaRT19u",
        "outputId": "ad748ce4-0bc2-46af-a360-b0c30b311dbf"
      },
      "outputs": [
        {
          "output_type": "stream",
          "name": "stdout",
          "text": [
            "Looking in indexes: https://pypi.org/simple, https://us-python.pkg.dev/colab-wheels/public/simple/\n",
            "Requirement already satisfied: pyyaml==5.4.1 in /usr/local/lib/python3.7/dist-packages (5.4.1)\n"
          ]
        }
      ],
      "source": [
        " ! pip install pyyaml==5.4.1"
      ]
    },
    {
      "cell_type": "code",
      "execution_count": null,
      "metadata": {
        "colab": {
          "base_uri": "https://localhost:8080/"
        },
        "id": "hh32fosBp4Uv",
        "outputId": "e39f041a-1e9e-43cc-dba4-6f7f1f67fb31"
      },
      "outputs": [
        {
          "output_type": "stream",
          "name": "stdout",
          "text": [
            "Looking in indexes: https://pypi.org/simple, https://us-python.pkg.dev/colab-wheels/public/simple/\n",
            "Requirement already satisfied: sentence-transformers in /usr/local/lib/python3.7/dist-packages (2.2.2)\n",
            "Requirement already satisfied: torchvision in /usr/local/lib/python3.7/dist-packages (from sentence-transformers) (0.12.0+cu113)\n",
            "Requirement already satisfied: nltk in /usr/local/lib/python3.7/dist-packages (from sentence-transformers) (3.7)\n",
            "Requirement already satisfied: scipy in /usr/local/lib/python3.7/dist-packages (from sentence-transformers) (1.4.1)\n",
            "Requirement already satisfied: torch>=1.6.0 in /usr/local/lib/python3.7/dist-packages (from sentence-transformers) (1.11.0+cu113)\n",
            "Requirement already satisfied: tqdm in /usr/local/lib/python3.7/dist-packages (from sentence-transformers) (4.64.0)\n",
            "Requirement already satisfied: transformers<5.0.0,>=4.6.0 in /usr/local/lib/python3.7/dist-packages (from sentence-transformers) (4.20.1)\n",
            "Requirement already satisfied: huggingface-hub>=0.4.0 in /usr/local/lib/python3.7/dist-packages (from sentence-transformers) (0.8.1)\n",
            "Requirement already satisfied: scikit-learn in /usr/local/lib/python3.7/dist-packages (from sentence-transformers) (1.0.2)\n",
            "Requirement already satisfied: numpy in /usr/local/lib/python3.7/dist-packages (from sentence-transformers) (1.21.6)\n",
            "Requirement already satisfied: sentencepiece in /usr/local/lib/python3.7/dist-packages (from sentence-transformers) (0.1.96)\n",
            "Requirement already satisfied: packaging>=20.9 in /usr/local/lib/python3.7/dist-packages (from huggingface-hub>=0.4.0->sentence-transformers) (21.3)\n",
            "Requirement already satisfied: filelock in /usr/local/lib/python3.7/dist-packages (from huggingface-hub>=0.4.0->sentence-transformers) (3.7.1)\n",
            "Requirement already satisfied: typing-extensions>=3.7.4.3 in /usr/local/lib/python3.7/dist-packages (from huggingface-hub>=0.4.0->sentence-transformers) (4.1.1)\n",
            "Requirement already satisfied: importlib-metadata in /usr/local/lib/python3.7/dist-packages (from huggingface-hub>=0.4.0->sentence-transformers) (4.11.4)\n",
            "Requirement already satisfied: pyyaml>=5.1 in /usr/local/lib/python3.7/dist-packages (from huggingface-hub>=0.4.0->sentence-transformers) (5.4.1)\n",
            "Requirement already satisfied: requests in /usr/local/lib/python3.7/dist-packages (from huggingface-hub>=0.4.0->sentence-transformers) (2.23.0)\n",
            "Requirement already satisfied: pyparsing!=3.0.5,>=2.0.2 in /usr/local/lib/python3.7/dist-packages (from packaging>=20.9->huggingface-hub>=0.4.0->sentence-transformers) (3.0.9)\n",
            "Requirement already satisfied: tokenizers!=0.11.3,<0.13,>=0.11.1 in /usr/local/lib/python3.7/dist-packages (from transformers<5.0.0,>=4.6.0->sentence-transformers) (0.12.1)\n",
            "Requirement already satisfied: regex!=2019.12.17 in /usr/local/lib/python3.7/dist-packages (from transformers<5.0.0,>=4.6.0->sentence-transformers) (2022.6.2)\n",
            "Requirement already satisfied: zipp>=0.5 in /usr/local/lib/python3.7/dist-packages (from importlib-metadata->huggingface-hub>=0.4.0->sentence-transformers) (3.8.0)\n",
            "Requirement already satisfied: click in /usr/local/lib/python3.7/dist-packages (from nltk->sentence-transformers) (7.1.2)\n",
            "Requirement already satisfied: joblib in /usr/local/lib/python3.7/dist-packages (from nltk->sentence-transformers) (1.1.0)\n",
            "Requirement already satisfied: chardet<4,>=3.0.2 in /usr/local/lib/python3.7/dist-packages (from requests->huggingface-hub>=0.4.0->sentence-transformers) (3.0.4)\n",
            "Requirement already satisfied: urllib3!=1.25.0,!=1.25.1,<1.26,>=1.21.1 in /usr/local/lib/python3.7/dist-packages (from requests->huggingface-hub>=0.4.0->sentence-transformers) (1.24.3)\n",
            "Requirement already satisfied: certifi>=2017.4.17 in /usr/local/lib/python3.7/dist-packages (from requests->huggingface-hub>=0.4.0->sentence-transformers) (2022.6.15)\n",
            "Requirement already satisfied: idna<3,>=2.5 in /usr/local/lib/python3.7/dist-packages (from requests->huggingface-hub>=0.4.0->sentence-transformers) (2.10)\n",
            "Requirement already satisfied: threadpoolctl>=2.0.0 in /usr/local/lib/python3.7/dist-packages (from scikit-learn->sentence-transformers) (3.1.0)\n",
            "Requirement already satisfied: pillow!=8.3.*,>=5.3.0 in /usr/local/lib/python3.7/dist-packages (from torchvision->sentence-transformers) (7.1.2)\n"
          ]
        }
      ],
      "source": [
        "! pip install -U sentence-transformers"
      ]
    },
    {
      "cell_type": "code",
      "execution_count": null,
      "metadata": {
        "colab": {
          "base_uri": "https://localhost:8080/"
        },
        "id": "bEoNnVm0p9sT",
        "outputId": "0672fe12-91de-4eef-90df-3303ce198599"
      },
      "outputs": [
        {
          "output_type": "stream",
          "name": "stdout",
          "text": [
            "Looking in indexes: https://pypi.org/simple, https://us-python.pkg.dev/colab-wheels/public/simple/\n",
            "Requirement already satisfied: tweet-preprocessor in /usr/local/lib/python3.7/dist-packages (0.6.0)\n"
          ]
        }
      ],
      "source": [
        "! pip install tweet-preprocessor"
      ]
    },
    {
      "cell_type": "code",
      "execution_count": null,
      "metadata": {
        "id": "uKzWfc1nqEbH"
      },
      "outputs": [],
      "source": [
        "import os\n",
        "import pandas as pd\n",
        "\n",
        "\n",
        "import re\n",
        "import preprocessor as p\n",
        "\n",
        "from sklearn.cluster import KMeans\n",
        "import matplotlib.pyplot as plt\n",
        "from wordcloud import WordCloud\n",
        "\n",
        "from sentence_transformers import SentenceTransformer\n",
        "embedder = SentenceTransformer('distilbert-base-nli-mean-tokens')\n",
        "\n",
        "from sklearn.preprocessing import MinMaxScaler\n",
        "from sklearn.decomposition import PCA\n",
        "\n",
        "import pandas as pd\n",
        "import numpy as np"
      ]
    },
    {
      "cell_type": "code",
      "execution_count": null,
      "metadata": {
        "colab": {
          "base_uri": "https://localhost:8080/",
          "height": 209,
          "referenced_widgets": [
            "7137b5393c234d73b59bc4ca2a29b3b9",
            "99c9613a2b424eaf8f1f0c45c64d6c93",
            "0f6a28b554ea4f358cd3d34494087dc2",
            "2e71acc5496144a9b620e55d86441795",
            "0f2e6a1a95c44fe281ed9d46de8d27ee",
            "e3bc0efe40484b6aab92f03c636d5ea4",
            "e964d743936d471e8a5f59f0c8e7339d",
            "e05ff12dd3e940889edacebe6beef302",
            "dd0a7022210a49c5b81c3c3fa37e6dcc",
            "bb4307d8ce5045f69b554c6c40eb38cb",
            "70ac3a541aeb460889c1796b054dd0c0",
            "51e3ab1b857e4086be615af3a0493205",
            "d6447ec9688240108822cec3a7ad4abc",
            "bb8b8ffdf90e476b85c18e9356d69175",
            "4be3a62a5e52402c9d76bb68c5869f72",
            "2c05c2a9b6ca477781d2683aad9730b2",
            "1d24a86a25a84fed9a481409eec6bb35",
            "05aa4fd94d404036bd1350aa62a84203",
            "f665255b04754c65a0698ddaf2dd65f7",
            "d06b94fbd0704dc1a812ac0f72bbb49d",
            "be7bf7b569074ccb9dc021b656b0b8fc",
            "916929789aa44847ac02a2b03dba5561",
            "fbd478f424684fae85cd444e038a3f0b",
            "ac545658d0f14b09b07af485037b1b8f",
            "1bca35eb8e0f43a8a3eb5c5c80785125",
            "bada46356b6f4dd88755d276630cf383",
            "d17f28a5feed49f98e69596d672aa436",
            "d6199bb93bad4227a27346e9c48511e5",
            "9382426943c54bb1b3e7d70e1d2def57",
            "4021dfe6a9b94dfdac30e8128ab64a2c",
            "c909e077b8c04986873bfe5d062d113c",
            "d5b95d2aac6746148e5020e0e357ac74",
            "0438fe14ee9f417cae32614e22fac925",
            "03e819b3b11442468418401dd258597b",
            "b833aab47a414f148b360d6fb3c2db94",
            "6ac902d3feaa4b4983172ac58f6a34e3",
            "5f281e14be8f4bf8920c37224272b86f",
            "39873dc7b91d43299728794e316983f0",
            "89e3d3ab81fa408a8ec378f3412708d6",
            "bd8cd75bdba54118aa1e29f4049997f9",
            "2cd1bea06afa4f499bba2ec2377d9548",
            "705d99c044b643a985f718dedffac69b",
            "510560aa85ad44a8b28df95e08de96f9",
            "664c3d6897fd4470a1af5314c2561830",
            "78a6061f340f404389f30f7845b56acd",
            "91841a8cbef348abb5c0357a46e16b56",
            "3e6ceac1b1c447d594b1ffed0ad0d1b6",
            "1325db1b390a4a7a99b4d6c3a720c00f",
            "b1d4db34c4df45faae3e333e9778c873",
            "ea2dc4c36061420a8e6283cfa58550bb",
            "5b8430e09348413f8eedfb4b6410352d",
            "799d2ff694d84c39b2fb6e1a1393c02d",
            "61903fc72fad4386ada0d5d4b48c31e0",
            "5f5cb8d1fec34c9392f966b9b3721ccb",
            "a58cca841c31481ebb9dfd127b18311a",
            "ad0aaa30867547ba9b49485846ba4362",
            "0e308828f6f9464ba17488c48e1932e5",
            "bdcdfc0cfcc04184ace94c2ede74b9a8",
            "c14a708f319e4702bd368033cc06e913",
            "72080e5fba72473d9527fbf61dcd4a99",
            "34499f6d99cb41d39447c7f1036fbb8a",
            "f7fa229e8c8d455aac7dcc36e10d3700",
            "73bf60cad21244eab367930c2ac73fa9",
            "3268ad67e950495ea131c8e5f2260f7b",
            "37c65ec6c7fc450f880e81640fa4d243",
            "daefc948309447c788e46fb1748d8146"
          ]
        },
        "id": "kAMTpbAlVYDh",
        "outputId": "15561fab-721c-4f82-8294-a818d71a57d8"
      },
      "outputs": [
        {
          "data": {
            "application/vnd.jupyter.widget-view+json": {
              "model_id": "7137b5393c234d73b59bc4ca2a29b3b9",
              "version_major": 2,
              "version_minor": 0
            },
            "text/plain": [
              "Downloading:   0%|          | 0.00/539 [00:00<?, ?B/s]"
            ]
          },
          "metadata": {},
          "output_type": "display_data"
        },
        {
          "data": {
            "application/vnd.jupyter.widget-view+json": {
              "model_id": "51e3ab1b857e4086be615af3a0493205",
              "version_major": 2,
              "version_minor": 0
            },
            "text/plain": [
              "Downloading:   0%|          | 0.00/253M [00:00<?, ?B/s]"
            ]
          },
          "metadata": {},
          "output_type": "display_data"
        },
        {
          "data": {
            "application/vnd.jupyter.widget-view+json": {
              "model_id": "fbd478f424684fae85cd444e038a3f0b",
              "version_major": 2,
              "version_minor": 0
            },
            "text/plain": [
              "Downloading:   0%|          | 0.00/489 [00:00<?, ?B/s]"
            ]
          },
          "metadata": {},
          "output_type": "display_data"
        },
        {
          "data": {
            "application/vnd.jupyter.widget-view+json": {
              "model_id": "03e819b3b11442468418401dd258597b",
              "version_major": 2,
              "version_minor": 0
            },
            "text/plain": [
              "Downloading:   0%|          | 0.00/226k [00:00<?, ?B/s]"
            ]
          },
          "metadata": {},
          "output_type": "display_data"
        },
        {
          "data": {
            "application/vnd.jupyter.widget-view+json": {
              "model_id": "78a6061f340f404389f30f7845b56acd",
              "version_major": 2,
              "version_minor": 0
            },
            "text/plain": [
              "Downloading:   0%|          | 0.00/455k [00:00<?, ?B/s]"
            ]
          },
          "metadata": {},
          "output_type": "display_data"
        },
        {
          "data": {
            "application/vnd.jupyter.widget-view+json": {
              "model_id": "ad0aaa30867547ba9b49485846ba4362",
              "version_major": 2,
              "version_minor": 0
            },
            "text/plain": [
              "Downloading:   0%|          | 0.00/112 [00:00<?, ?B/s]"
            ]
          },
          "metadata": {},
          "output_type": "display_data"
        }
      ],
      "source": [
        "# bert + dimensionality\n",
        "\n",
        "\n",
        "\n",
        "from sentence_transformers import SentenceTransformer, models\n",
        "from torch import nn\n",
        "\n",
        "word_embedding_model = models.Transformer('sentence-transformers/stsb-distilbert-base', max_seq_length=256)\n",
        "pooling_model = models.Pooling(word_embedding_model.get_word_embedding_dimension())\n",
        "dense_model = models.Dense(in_features=pooling_model.get_sentence_embedding_dimension(), out_features=256, activation_function=nn.Tanh())\n",
        "\n",
        "model = SentenceTransformer(modules=[word_embedding_model, pooling_model, dense_model])"
      ]
    },
    {
      "cell_type": "code",
      "execution_count": null,
      "metadata": {
        "id": "SLznzGmDqYCn"
      },
      "outputs": [],
      "source": [
        "# custum function to clean the dataset (combining tweet_preprocessor and reguar expression)\n",
        "def clean_text(df):\n",
        "    #set up punctuations we want to be replaced\n",
        "    REPLACE_NO_SPACE = re.compile(\"(\\.)|(\\;)|(\\:)|(\\!)|(\\')|(\\?)|(\\,)|(\\\")|(\\|)|(\\()|(\\))|(\\[)|(\\])|(\\%)|(\\$)|(\\>)|(\\<)|(\\{)|(\\})\")\n",
        "    REPLACE_WITH_SPACE = re.compile(\"(<br\\s/><br\\s/?)|(-)|(/)|(:).\")\n",
        "    tempArr = []\n",
        "    for line in df:\n",
        "        # send to tweet_processor\n",
        "        tmpL = p.clean(line)\n",
        "        # remove puctuation\n",
        "        tmpL = REPLACE_NO_SPACE.sub(\"\", tmpL.lower()) # convert all tweets to lower cases\n",
        "        tmpL = REPLACE_WITH_SPACE.sub(\" \", tmpL)\n",
        "        tempArr.append(tmpL)\n",
        "    return tempArr"
      ]
    },
    {
      "cell_type": "code",
      "execution_count": null,
      "metadata": {
        "colab": {
          "base_uri": "https://localhost:8080/"
        },
        "id": "vgkuDglCqcQr",
        "outputId": "87db6d1c-9799-45e3-ebba-acddbb4f7122"
      },
      "outputs": [
        {
          "output_type": "stream",
          "name": "stdout",
          "text": [
            "(5187, 7)\n",
            "Index(['uniqueID', 'drugName', 'condition', 'review', 'rating', 'date',\n",
            "       'usefulCount'],\n",
            "      dtype='object')\n",
            "(1785, 7)\n"
          ]
        },
        {
          "output_type": "stream",
          "name": "stderr",
          "text": [
            "/usr/local/lib/python3.7/dist-packages/IPython/core/interactiveshell.py:2882: FutureWarning: The error_bad_lines argument has been deprecated and will be removed in a future version.\n",
            "\n",
            "\n",
            "  exec(code_obj, self.user_global_ns, self.user_ns)\n"
          ]
        }
      ],
      "source": [
        "Train_data = pd.read_csv('/content/sample_data/drugsComTrain_trimmed.csv',encoding='utf8', engine='python',error_bad_lines=False)\n",
        "print (Train_data.shape)\n",
        "print (Train_data.columns)\n",
        "Test_data = pd.read_csv('/content/sample_data/drugsComTest_trimmed.csv',encoding='utf8', engine='python',error_bad_lines=False)\n",
        "print(Test_data.shape)\n"
      ]
    },
    {
      "cell_type": "code",
      "execution_count": null,
      "metadata": {
        "id": "xm2rWHCFqnc3"
      },
      "outputs": [],
      "source": [
        "Train_data['Review-cleaned'] = clean_text(Train_data['review'].apply(str))\n",
        "Test_data['Review-cleaned'] = clean_text(Test_data['review'].apply(str))"
      ]
    },
    {
      "cell_type": "code",
      "execution_count": null,
      "metadata": {
        "colab": {
          "base_uri": "https://localhost:8080/",
          "height": 337
        },
        "id": "y3P8dUJFYVLW",
        "outputId": "07e7ffec-1ef1-4d3e-f759-9254a56ab380"
      },
      "outputs": [
        {
          "output_type": "execute_result",
          "data": {
            "text/plain": [
              "   uniqueID   drugName          condition  \\\n",
              "0    225508  Bupropion  Smoking Cessation   \n",
              "1    225257  Bupropion         Depression   \n",
              "2    224842  Bupropion         Depression   \n",
              "3    225955  Bupropion         Depression   \n",
              "4    225545  Bupropion         Depression   \n",
              "\n",
              "                                              review  rating   date  \\\n",
              "0  \"Love this, no mouth sores, or ulcers like Wel...      10  41873   \n",
              "1  \"I was really glad that I experienced none of ...       4  42285   \n",
              "2  \"F/26, Wellbutrin SR 100mg twice a day &amp; I...      10  42737   \n",
              "3  \"Wellbutrin has significantly improved my over...       8  39972   \n",
              "4  \"I have taken Prozac, Zoloft, Paxil, and then ...      10  41601   \n",
              "\n",
              "   usefulCount                                     Review-cleaned  \n",
              "0           15  love this no mouth sores or ulcers like wellbu...  \n",
              "1            0  i was really glad that i experienced none of t...  \n",
              "2           14  f 26 wellbutrin sr mg twice a day &amp i feel ...  \n",
              "3           46  wellbutrin has significantly improved my overa...  \n",
              "4           41  i have taken prozac zoloft paxil and then my d...  "
            ],
            "text/html": [
              "\n",
              "  <div id=\"df-001b06d5-5ae1-453b-8b79-95f56d0ec401\">\n",
              "    <div class=\"colab-df-container\">\n",
              "      <div>\n",
              "<style scoped>\n",
              "    .dataframe tbody tr th:only-of-type {\n",
              "        vertical-align: middle;\n",
              "    }\n",
              "\n",
              "    .dataframe tbody tr th {\n",
              "        vertical-align: top;\n",
              "    }\n",
              "\n",
              "    .dataframe thead th {\n",
              "        text-align: right;\n",
              "    }\n",
              "</style>\n",
              "<table border=\"1\" class=\"dataframe\">\n",
              "  <thead>\n",
              "    <tr style=\"text-align: right;\">\n",
              "      <th></th>\n",
              "      <th>uniqueID</th>\n",
              "      <th>drugName</th>\n",
              "      <th>condition</th>\n",
              "      <th>review</th>\n",
              "      <th>rating</th>\n",
              "      <th>date</th>\n",
              "      <th>usefulCount</th>\n",
              "      <th>Review-cleaned</th>\n",
              "    </tr>\n",
              "  </thead>\n",
              "  <tbody>\n",
              "    <tr>\n",
              "      <th>0</th>\n",
              "      <td>225508</td>\n",
              "      <td>Bupropion</td>\n",
              "      <td>Smoking Cessation</td>\n",
              "      <td>\"Love this, no mouth sores, or ulcers like Wel...</td>\n",
              "      <td>10</td>\n",
              "      <td>41873</td>\n",
              "      <td>15</td>\n",
              "      <td>love this no mouth sores or ulcers like wellbu...</td>\n",
              "    </tr>\n",
              "    <tr>\n",
              "      <th>1</th>\n",
              "      <td>225257</td>\n",
              "      <td>Bupropion</td>\n",
              "      <td>Depression</td>\n",
              "      <td>\"I was really glad that I experienced none of ...</td>\n",
              "      <td>4</td>\n",
              "      <td>42285</td>\n",
              "      <td>0</td>\n",
              "      <td>i was really glad that i experienced none of t...</td>\n",
              "    </tr>\n",
              "    <tr>\n",
              "      <th>2</th>\n",
              "      <td>224842</td>\n",
              "      <td>Bupropion</td>\n",
              "      <td>Depression</td>\n",
              "      <td>\"F/26, Wellbutrin SR 100mg twice a day &amp;amp; I...</td>\n",
              "      <td>10</td>\n",
              "      <td>42737</td>\n",
              "      <td>14</td>\n",
              "      <td>f 26 wellbutrin sr mg twice a day &amp;amp i feel ...</td>\n",
              "    </tr>\n",
              "    <tr>\n",
              "      <th>3</th>\n",
              "      <td>225955</td>\n",
              "      <td>Bupropion</td>\n",
              "      <td>Depression</td>\n",
              "      <td>\"Wellbutrin has significantly improved my over...</td>\n",
              "      <td>8</td>\n",
              "      <td>39972</td>\n",
              "      <td>46</td>\n",
              "      <td>wellbutrin has significantly improved my overa...</td>\n",
              "    </tr>\n",
              "    <tr>\n",
              "      <th>4</th>\n",
              "      <td>225545</td>\n",
              "      <td>Bupropion</td>\n",
              "      <td>Depression</td>\n",
              "      <td>\"I have taken Prozac, Zoloft, Paxil, and then ...</td>\n",
              "      <td>10</td>\n",
              "      <td>41601</td>\n",
              "      <td>41</td>\n",
              "      <td>i have taken prozac zoloft paxil and then my d...</td>\n",
              "    </tr>\n",
              "  </tbody>\n",
              "</table>\n",
              "</div>\n",
              "      <button class=\"colab-df-convert\" onclick=\"convertToInteractive('df-001b06d5-5ae1-453b-8b79-95f56d0ec401')\"\n",
              "              title=\"Convert this dataframe to an interactive table.\"\n",
              "              style=\"display:none;\">\n",
              "        \n",
              "  <svg xmlns=\"http://www.w3.org/2000/svg\" height=\"24px\"viewBox=\"0 0 24 24\"\n",
              "       width=\"24px\">\n",
              "    <path d=\"M0 0h24v24H0V0z\" fill=\"none\"/>\n",
              "    <path d=\"M18.56 5.44l.94 2.06.94-2.06 2.06-.94-2.06-.94-.94-2.06-.94 2.06-2.06.94zm-11 1L8.5 8.5l.94-2.06 2.06-.94-2.06-.94L8.5 2.5l-.94 2.06-2.06.94zm10 10l.94 2.06.94-2.06 2.06-.94-2.06-.94-.94-2.06-.94 2.06-2.06.94z\"/><path d=\"M17.41 7.96l-1.37-1.37c-.4-.4-.92-.59-1.43-.59-.52 0-1.04.2-1.43.59L10.3 9.45l-7.72 7.72c-.78.78-.78 2.05 0 2.83L4 21.41c.39.39.9.59 1.41.59.51 0 1.02-.2 1.41-.59l7.78-7.78 2.81-2.81c.8-.78.8-2.07 0-2.86zM5.41 20L4 18.59l7.72-7.72 1.47 1.35L5.41 20z\"/>\n",
              "  </svg>\n",
              "      </button>\n",
              "      \n",
              "  <style>\n",
              "    .colab-df-container {\n",
              "      display:flex;\n",
              "      flex-wrap:wrap;\n",
              "      gap: 12px;\n",
              "    }\n",
              "\n",
              "    .colab-df-convert {\n",
              "      background-color: #E8F0FE;\n",
              "      border: none;\n",
              "      border-radius: 50%;\n",
              "      cursor: pointer;\n",
              "      display: none;\n",
              "      fill: #1967D2;\n",
              "      height: 32px;\n",
              "      padding: 0 0 0 0;\n",
              "      width: 32px;\n",
              "    }\n",
              "\n",
              "    .colab-df-convert:hover {\n",
              "      background-color: #E2EBFA;\n",
              "      box-shadow: 0px 1px 2px rgba(60, 64, 67, 0.3), 0px 1px 3px 1px rgba(60, 64, 67, 0.15);\n",
              "      fill: #174EA6;\n",
              "    }\n",
              "\n",
              "    [theme=dark] .colab-df-convert {\n",
              "      background-color: #3B4455;\n",
              "      fill: #D2E3FC;\n",
              "    }\n",
              "\n",
              "    [theme=dark] .colab-df-convert:hover {\n",
              "      background-color: #434B5C;\n",
              "      box-shadow: 0px 1px 3px 1px rgba(0, 0, 0, 0.15);\n",
              "      filter: drop-shadow(0px 1px 2px rgba(0, 0, 0, 0.3));\n",
              "      fill: #FFFFFF;\n",
              "    }\n",
              "  </style>\n",
              "\n",
              "      <script>\n",
              "        const buttonEl =\n",
              "          document.querySelector('#df-001b06d5-5ae1-453b-8b79-95f56d0ec401 button.colab-df-convert');\n",
              "        buttonEl.style.display =\n",
              "          google.colab.kernel.accessAllowed ? 'block' : 'none';\n",
              "\n",
              "        async function convertToInteractive(key) {\n",
              "          const element = document.querySelector('#df-001b06d5-5ae1-453b-8b79-95f56d0ec401');\n",
              "          const dataTable =\n",
              "            await google.colab.kernel.invokeFunction('convertToInteractive',\n",
              "                                                     [key], {});\n",
              "          if (!dataTable) return;\n",
              "\n",
              "          const docLinkHtml = 'Like what you see? Visit the ' +\n",
              "            '<a target=\"_blank\" href=https://colab.research.google.com/notebooks/data_table.ipynb>data table notebook</a>'\n",
              "            + ' to learn more about interactive tables.';\n",
              "          element.innerHTML = '';\n",
              "          dataTable['output_type'] = 'display_data';\n",
              "          await google.colab.output.renderOutput(dataTable, element);\n",
              "          const docLink = document.createElement('div');\n",
              "          docLink.innerHTML = docLinkHtml;\n",
              "          element.appendChild(docLink);\n",
              "        }\n",
              "      </script>\n",
              "    </div>\n",
              "  </div>\n",
              "  "
            ]
          },
          "metadata": {},
          "execution_count": 24
        }
      ],
      "source": [
        "Train_data.head()\n",
        "# print(Train_data.shape)"
      ]
    },
    {
      "cell_type": "code",
      "execution_count": null,
      "metadata": {
        "id": "0OR4Oph-qzUK"
      },
      "outputs": [],
      "source": [
        "Train_labels = Train_data[['drugName']]"
      ]
    },
    {
      "cell_type": "code",
      "execution_count": null,
      "metadata": {
        "id": "qGcUiIy_YdtU"
      },
      "outputs": [],
      "source": [
        "Test_labels = Test_data[['drugName']]"
      ]
    },
    {
      "cell_type": "code",
      "execution_count": null,
      "metadata": {
        "colab": {
          "base_uri": "https://localhost:8080/"
        },
        "id": "4sBXCeoKYiM5",
        "outputId": "5b425edd-cc16-4f29-cde4-2e861d9324f6"
      },
      "outputs": [
        {
          "output_type": "execute_result",
          "data": {
            "text/plain": [
              "(1785, 1)"
            ]
          },
          "metadata": {},
          "execution_count": 27
        }
      ],
      "source": [
        "Test_labels.shape"
      ]
    },
    {
      "cell_type": "code",
      "execution_count": null,
      "metadata": {
        "colab": {
          "base_uri": "https://localhost:8080/"
        },
        "id": "xaZKlzMEq6cr",
        "outputId": "a08aed5a-ca7b-412c-88d2-2216c2c90c1c"
      },
      "outputs": [
        {
          "output_type": "stream",
          "name": "stdout",
          "text": [
            "count of classes: 5 \n",
            "\n",
            "Labels's list : \n",
            " ['Bupropion', 'Gabapentin', 'Implanon', 'Miconazole', 'Venlafaxine'] \n",
            "\n",
            "value count for a class :\n",
            " Implanon       1102\n",
            "Gabapentin     1047\n",
            "Bupropion      1022\n",
            "Venlafaxine    1016\n",
            "Miconazole     1000\n",
            "Name: drugName, dtype: int64\n"
          ]
        }
      ],
      "source": [
        "# list of labels\n",
        "labels_list = list(Train_labels['drugName'].unique())\n",
        "print(\"count of classes:\",len(labels_list),\"\\n\")\n",
        "print(\"Labels's list : \\n\",labels_list,\"\\n\")\n",
        "print(\"value count for a class :\\n\",Train_data['drugName'].value_counts())"
      ]
    },
    {
      "cell_type": "markdown",
      "metadata": {
        "id": "1hrNqrxNYqxT"
      },
      "source": [
        "Bert Embeddings"
      ]
    },
    {
      "cell_type": "code",
      "execution_count": null,
      "metadata": {
        "id": "HCU_UV5arDGW"
      },
      "outputs": [],
      "source": [
        "Train_corpus = list(Train_data['Review-cleaned'])\n",
        "Test_corpus = list(Test_data['Review-cleaned'])"
      ]
    },
    {
      "cell_type": "code",
      "execution_count": null,
      "metadata": {
        "colab": {
          "base_uri": "https://localhost:8080/"
        },
        "id": "SrKkDlftX6nL",
        "outputId": "4ef597a1-6475-4443-a17b-403a57c3a58d"
      },
      "outputs": [
        {
          "data": {
            "text/plain": [
              "5187"
            ]
          },
          "execution_count": 14,
          "metadata": {},
          "output_type": "execute_result"
        }
      ],
      "source": [
        "len(Train_corpus)"
      ]
    },
    {
      "cell_type": "code",
      "execution_count": null,
      "metadata": {
        "colab": {
          "base_uri": "https://localhost:8080/"
        },
        "id": "VDVsArq1YzuV",
        "outputId": "c5531b28-5495-4608-97c2-92ba86539f09"
      },
      "outputs": [
        {
          "data": {
            "text/plain": [
              "1785"
            ]
          },
          "execution_count": 15,
          "metadata": {},
          "output_type": "execute_result"
        }
      ],
      "source": [
        "len(Test_corpus)"
      ]
    },
    {
      "cell_type": "code",
      "execution_count": null,
      "metadata": {
        "id": "dbXXVI73rJ2b"
      },
      "outputs": [],
      "source": [
        "X_Train_embeddings = embedder.encode(Train_corpus)"
      ]
    },
    {
      "cell_type": "code",
      "execution_count": null,
      "metadata": {
        "id": "VIIGB-pUY4Gt"
      },
      "outputs": [],
      "source": [
        "X_Test_embeddings = embedder.encode(Test_corpus)"
      ]
    },
    {
      "cell_type": "code",
      "execution_count": null,
      "metadata": {
        "colab": {
          "base_uri": "https://localhost:8080/"
        },
        "id": "a9dFXm4dyWWf",
        "outputId": "e838f28b-c096-441d-e146-54b76e0a3923"
      },
      "outputs": [
        {
          "data": {
            "text/plain": [
              "array([[-0.00947596, -0.130802  ,  0.51888835, ..., -0.11282377,\n",
              "         0.3043258 , -0.4393061 ],\n",
              "       [-0.4946848 , -0.5778166 ,  0.69368786, ...,  0.25801337,\n",
              "         0.12260108,  0.04919191],\n",
              "       [-0.15910126, -0.48441   ,  0.9355656 , ...,  0.07405598,\n",
              "        -0.22521514, -0.43981707],\n",
              "       ...,\n",
              "       [-0.01689233, -0.48630035,  0.83939755, ..., -0.0315172 ,\n",
              "        -0.28879005,  0.19147354],\n",
              "       [-0.2220603 , -0.456098  ,  1.0534074 , ..., -0.06708415,\n",
              "        -0.07204203,  0.05422823],\n",
              "       [ 0.03953104, -0.87830174,  0.8149783 , ..., -0.13032335,\n",
              "        -0.39824718,  0.05956945]], dtype=float32)"
            ]
          },
          "execution_count": 42,
          "metadata": {},
          "output_type": "execute_result"
        }
      ],
      "source": [
        "X_Train_embeddings"
      ]
    },
    {
      "cell_type": "code",
      "execution_count": null,
      "metadata": {
        "colab": {
          "base_uri": "https://localhost:8080/"
        },
        "id": "WmYCzIVgyYts",
        "outputId": "fa6ab4b8-c226-4f51-90e1-b025f111ee1d"
      },
      "outputs": [
        {
          "output_type": "execute_result",
          "data": {
            "text/plain": [
              "(1785, 768)"
            ]
          },
          "metadata": {},
          "execution_count": 34
        }
      ],
      "source": [
        "X_Test_embeddings.shape"
      ]
    },
    {
      "cell_type": "markdown",
      "metadata": {
        "id": "eG8d5fKBVMyJ"
      },
      "source": [
        "Plot Varience graph"
      ]
    },
    {
      "cell_type": "code",
      "execution_count": null,
      "metadata": {
        "colab": {
          "base_uri": "https://localhost:8080/",
          "height": 597
        },
        "id": "uNS1qY-YuBeP",
        "outputId": "9e519632-ba30-4091-8338-8aeaf2bc3868"
      },
      "outputs": [
        {
          "output_type": "stream",
          "name": "stderr",
          "text": [
            "/usr/local/lib/python3.7/dist-packages/distributed/config.py:20: YAMLLoadWarning: calling yaml.load() without Loader=... is deprecated, as the default Loader is unsafe. Please read https://msg.pyyaml.org/load for full details.\n",
            "  defaults = yaml.load(f)\n"
          ]
        },
        {
          "output_type": "display_data",
          "data": {
            "text/html": [
              "<html>\n",
              "<head><meta charset=\"utf-8\" /></head>\n",
              "<body>\n",
              "    <div>            <script src=\"https://cdnjs.cloudflare.com/ajax/libs/mathjax/2.7.5/MathJax.js?config=TeX-AMS-MML_SVG\"></script><script type=\"text/javascript\">if (window.MathJax) {MathJax.Hub.Config({SVG: {font: \"STIX-Web\"}});}</script>                <script type=\"text/javascript\">window.PlotlyConfig = {MathJaxConfig: 'local'};</script>\n",
              "        <script src=\"https://cdn.plot.ly/plotly-2.8.3.min.js\"></script>                <div id=\"25bf2649-1f02-4148-a587-9d2d074c4b18\" class=\"plotly-graph-div\" style=\"height:525px; width:100%;\"></div>            <script type=\"text/javascript\">                                    window.PLOTLYENV=window.PLOTLYENV || {};                                    if (document.getElementById(\"25bf2649-1f02-4148-a587-9d2d074c4b18\")) {                    Plotly.newPlot(                        \"25bf2649-1f02-4148-a587-9d2d074c4b18\",                        [{\"hovertemplate\":\"# Components=%{x}<br>Explained Variance=%{y}<extra></extra>\",\"legendgroup\":\"\",\"line\":{\"color\":\"#636efa\"},\"marker\":{\"symbol\":\"circle\"},\"mode\":\"lines\",\"name\":\"\",\"orientation\":\"v\",\"showlegend\":false,\"stackgroup\":\"1\",\"x\":[1,2,3,4,5,6,7,8,9,10,11,12,13,14,15,16,17,18,19,20,21,22,23,24,25,26,27,28,29,30,31,32,33,34,35,36,37,38,39,40,41,42,43,44,45,46,47,48,49,50,51,52,53,54,55,56,57,58,59,60,61,62,63,64,65,66,67,68,69,70,71,72,73,74,75,76,77,78,79,80,81,82,83,84,85,86,87,88,89,90,91,92,93,94,95,96,97,98,99,100,101,102,103,104,105,106,107,108,109,110,111,112,113,114,115,116,117,118,119,120,121,122,123,124,125,126,127,128,129,130,131,132,133,134,135,136,137,138,139,140,141,142,143,144,145,146,147,148,149,150,151,152,153,154,155,156,157,158,159,160,161,162,163,164,165,166,167,168,169,170,171,172,173,174,175,176,177,178,179,180,181,182,183,184,185,186,187,188,189,190,191,192,193,194,195,196,197,198,199,200,201,202,203,204,205,206,207,208,209,210,211,212,213,214,215,216,217,218,219,220,221,222,223,224,225,226,227,228,229,230,231,232,233,234,235,236,237,238,239,240,241,242,243,244,245,246,247,248,249,250,251,252,253,254,255,256,257,258,259,260,261,262,263,264,265,266,267,268,269,270,271,272,273,274,275,276,277,278,279,280,281,282,283,284,285,286,287,288,289,290,291,292,293,294,295,296,297,298,299,300,301,302,303,304,305,306,307,308,309,310,311,312,313,314,315,316,317,318,319,320,321,322,323,324,325,326,327,328,329,330,331,332,333,334,335,336,337,338,339,340,341,342,343,344,345,346,347,348,349,350,351,352,353,354,355,356,357,358,359,360,361,362,363,364,365,366,367,368,369,370,371,372,373,374,375,376,377,378,379,380,381,382,383,384,385,386,387,388,389,390,391,392,393,394,395,396,397,398,399,400,401,402,403,404,405,406,407,408,409,410,411,412,413,414,415,416,417,418,419,420,421,422,423,424,425,426,427,428,429,430,431,432,433,434,435,436,437,438,439,440,441,442,443,444,445,446,447,448,449,450,451,452,453,454,455,456,457,458,459,460,461,462,463,464,465,466,467,468,469,470,471,472,473,474,475,476,477,478,479,480,481,482,483,484,485,486,487,488,489,490,491,492,493,494,495,496,497,498,499,500,501,502,503,504,505,506,507,508,509,510,511,512,513,514,515,516,517,518,519,520,521,522,523,524,525,526,527,528,529,530,531,532,533,534,535,536,537,538,539,540,541,542,543,544,545,546,547,548,549,550,551,552,553,554,555,556,557,558,559,560,561,562,563,564,565,566,567,568,569,570,571,572,573,574,575,576,577,578,579,580,581,582,583,584,585,586,587,588,589,590,591,592,593,594,595,596,597,598,599,600,601,602,603,604,605,606,607,608,609,610,611,612,613,614,615,616,617,618,619,620,621,622,623,624,625,626,627,628,629,630,631,632,633,634,635,636,637,638,639,640,641,642,643,644,645,646,647,648,649,650,651,652,653,654,655,656,657,658,659,660,661,662,663,664,665,666,667,668,669,670,671,672,673,674,675,676,677,678,679,680,681,682,683,684,685,686,687,688,689,690,691,692,693,694,695,696,697,698,699,700,701,702,703,704,705,706,707,708,709,710,711,712,713,714,715,716,717,718,719,720,721,722,723,724,725,726,727,728,729,730,731,732,733,734,735,736,737,738,739,740,741,742,743,744,745,746,747,748,749,750,751,752,753,754,755,756,757,758,759,760,761,762,763,764,765,766,767,768],\"xaxis\":\"x\",\"y\":[0.12731947004795074,0.23735451698303223,0.3116379976272583,0.3771112859249115,0.42448461055755615,0.46276235580444336,0.49690860509872437,0.5262974500656128,0.5517818927764893,0.5743048191070557,0.5962212681770325,0.616642951965332,0.6350799202919006,0.6531939506530762,0.6681549549102783,0.6816897988319397,0.6948032975196838,0.7072398662567139,0.7178671956062317,0.7282744646072388,0.7381362318992615,0.7473996877670288,0.7562737464904785,0.7642594575881958,0.7714980244636536,0.778266966342926,0.7847522497177124,0.790826141834259,0.7966976165771484,0.802446186542511,0.808104932308197,0.8134726881980896,0.81853187084198,0.8233909606933594,0.8280290961265564,0.8321075439453125,0.836040198802948,0.8397851586341858,0.8433327674865723,0.8468530178070068,0.8502337336540222,0.8533924221992493,0.856377363204956,0.8592603802680969,0.8620634078979492,0.8647841215133667,0.8674601316452026,0.8700976967811584,0.8725361824035645,0.8749105334281921,0.8772271275520325,0.8794975876808167,0.8817440271377563,0.8838743567466736,0.8858697414398193,0.8877951502799988,0.889664351940155,0.8914610147476196,0.8931540250778198,0.894790768623352,0.8964051008224487,0.8979253768920898,0.8994004726409912,0.9008263349533081,0.9022414088249207,0.9036195278167725,0.9049746990203857,0.9062893986701965,0.9075772166252136,0.9088418483734131,0.9100608825683594,0.9112589359283447,0.9124402403831482,0.9135684967041016,0.9146817326545715,0.9157887101173401,0.9168359637260437,0.9178608655929565,0.9188648462295532,0.9198592901229858,0.9208384156227112,0.9217954277992249,0.9227267503738403,0.9236450791358948,0.9245358109474182,0.9253925681114197,0.9262413382530212,0.9270746111869812,0.9278924465179443,0.9286778569221497,0.9294565320014954,0.9302215576171875,0.9309753179550171,0.9317151308059692,0.9324482083320618,0.9331709742546082,0.9338669180870056,0.9345546960830688,0.9352355599403381,0.9359144568443298,0.9365726113319397,0.9372222423553467,0.9378615021705627,0.93849116563797,0.9391109943389893,0.9397154450416565,0.9403084516525269,0.9408947825431824,0.9414743185043335,0.9420455694198608,0.9426045417785645,0.9431545734405518,0.9436951279640198,0.9442307353019714,0.9447528123855591,0.9452670216560364,0.9457690119743347,0.946268618106842,0.9467630982398987,0.9472482800483704,0.9477313756942749,0.9482041597366333,0.9486727118492126,0.949133038520813,0.9495890140533447,0.9500434398651123,0.9504861831665039,0.9509239792823792,0.9513509273529053,0.9517713785171509,0.952190637588501,0.9526047110557556,0.9530115127563477,0.9534144401550293,0.9538103938102722,0.9542011022567749,0.9545897841453552,0.9549732804298401,0.955352783203125,0.9557287693023682,0.9561005234718323,0.9564639329910278,0.9568259716033936,0.9571812748908997,0.9575319886207581,0.9578762054443359,0.958219587802887,0.9585577249526978,0.9588910341262817,0.9592227935791016,0.9595514535903931,0.9598739147186279,0.9601926803588867,0.9605098962783813,0.9608207941055298,0.9611296653747559,0.9614318609237671,0.9617310166358948,0.9620286822319031,0.962324857711792,0.9626147150993347,0.9629020690917969,0.9631872177124023,0.9634705185890198,0.9637508392333984,0.9640283584594727,0.9643038511276245,0.9645765423774719,0.9648441076278687,0.9651097655296326,0.9653719663619995,0.965631365776062,0.9658883810043335,0.966142475605011,0.9663936495780945,0.9666443467140198,0.9668917655944824,0.9671366810798645,0.9673788547515869,0.9676191210746765,0.9678568840026855,0.9680893421173096,0.9683210253715515,0.968551754951477,0.9687821865081787,0.9690107703208923,0.9692330360412598,0.9694539904594421,0.9696739912033081,0.9698912501335144,0.9701078534126282,0.9703208804130554,0.9705314040184021,0.9707411527633667,0.9709497094154358,0.9711557626724243,0.9713606238365173,0.9715645909309387,0.9717671275138855,0.9719665050506592,0.972163200378418,0.9723590016365051,0.9725542664527893,0.9727479815483093,0.9729397296905518,0.9731289148330688,0.9733150005340576,0.9734999537467957,0.9736835360527039,0.9738659262657166,0.9740464091300964,0.9742258787155151,0.9744042158126831,0.9745805859565735,0.9747557044029236,0.9749299883842468,0.9751031994819641,0.9752745032310486,0.9754447937011719,0.9756121635437012,0.9757788181304932,0.975943386554718,0.9761070609092712,0.9762699604034424,0.9764308929443359,0.9765909314155579,0.9767499566078186,0.9769082069396973,0.9770649075508118,0.9772207736968994,0.9773746728897095,0.977527379989624,0.9776791930198669,0.9778293371200562,0.9779784083366394,0.9781264662742615,0.9782738089561462,0.9784195423126221,0.9785648584365845,0.9787094593048096,0.978852391242981,0.9789945483207703,0.9791358113288879,0.9792764782905579,0.9794153571128845,0.9795535206794739,0.9796903133392334,0.9798250794410706,0.9799591898918152,0.980092465877533,0.9802252650260925,0.980357825756073,0.9804884195327759,0.9806171655654907,0.9807458519935608,0.9808725118637085,0.9809984564781189,0.9811230301856995,0.981246829032898,0.9813701510429382,0.9814924597740173,0.9816135168075562,0.9817341566085815,0.981853187084198,0.9819721579551697,0.982090175151825,0.9822078943252563,0.98232501745224,0.9824403524398804,0.9825549721717834,0.9826682806015015,0.982780933380127,0.9828927516937256,0.9830032587051392,0.9831135869026184,0.9832231402397156,0.9833319783210754,0.9834403395652771,0.983547031879425,0.9836530685424805,0.9837583303451538,0.9838632941246033,0.9839677810668945,0.9840718507766724,0.9841747283935547,0.9842771887779236,0.9843791723251343,0.9844802021980286,0.9845808148384094,0.9846802949905396,0.984778642654419,0.9848762154579163,0.9849725961685181,0.9850687980651855,0.9851641654968262,0.9852588772773743,0.9853532910346985,0.9854476451873779,0.9855413436889648,0.9856342673301697,0.985726535320282,0.9858182072639465,0.9859097003936768,0.986000657081604,0.9860908389091492,0.9861802458763123,0.9862685799598694,0.9863566756248474,0.9864435791969299,0.9865301251411438,0.9866160154342651,0.9867016673088074,0.986786961555481,0.9868717789649963,0.9869561791419983,0.9870401620864868,0.9871235489845276,0.9872063398361206,0.9872885942459106,0.987370491027832,0.9874518513679504,0.9875321984291077,0.9876120090484619,0.9876909852027893,0.9877694845199585,0.987847626209259,0.9879252910614014,0.9880024194717407,0.9880788922309875,0.988154947757721,0.9882305860519409,0.9883061051368713,0.9883812069892883,0.9884560704231262,0.9885303974151611,0.9886042475700378,0.9886776208877563,0.9887503385543823,0.9888226389884949,0.988894522190094,0.9889658093452454,0.9890368580818176,0.989107608795166,0.989177942276001,0.9892477989196777,0.989316999912262,0.9893856048583984,0.9894540309906006,0.9895221590995789,0.9895898699760437,0.9896568655967712,0.9897237420082092,0.9897898435592651,0.9898555278778076,0.9899207353591919,0.9899855256080627,0.9900499582290649,0.9901139140129089,0.9901776909828186,0.9902411103248596,0.9903038740158081,0.9903665781021118,0.9904289841651917,0.9904909133911133,0.9905526638031006,0.9906141757965088,0.9906753301620483,0.990736186504364,0.9907963275909424,0.9908562302589417,0.9909156560897827,0.990974485874176,0.9910327792167664,0.9910908341407776,0.9911487698554993,0.9912063479423523,0.991263747215271,0.9913206696510315,0.9913772344589233,0.9914335608482361,0.991489589214325,0.9915452003479004,0.9916006326675415,0.9916557669639587,0.9917102456092834,0.9917644262313843,0.991818368434906,0.9918720126152039,0.991925060749054,0.9919778108596802,0.9920303225517273,0.9920824766159058,0.9921346306800842,0.9921866655349731,0.99223792552948,0.9922888278961182,0.9923396110534668,0.9923902750015259,0.9924405217170715,0.9924905300140381,0.9925404191017151,0.9925900101661682,0.992639422416687,0.9926883578300476,0.9927370548248291,0.9927855730056763,0.9928337931632996,0.9928816556930542,0.9929289221763611,0.9929758906364441,0.9930227398872375,0.9930693507194519,0.9931157231330872,0.9931619167327881,0.9932078123092651,0.9932534694671631,0.9932987093925476,0.9933436512947083,0.9933884739875793,0.9934329986572266,0.9934774041175842,0.9935214519500732,0.9935653209686279,0.993608832359314,0.9936521649360657,0.9936951994895935,0.9937379956245422,0.9937806725502014,0.9938231110572815,0.9938653707504272,0.9939073324203491,0.9939492344856262,0.9939908385276794,0.9940323233604431,0.9940733909606934,0.9941143989562988,0.9941551685333252,0.994195818901062,0.9942359924316406,0.9942759275436401,0.9943156242370605,0.9943551421165466,0.9943943619728088,0.9944335222244263,0.9944725036621094,0.994511067867279,0.9945494532585144,0.9945877194404602,0.9946258068084717,0.9946637153625488,0.9947014451026917,0.9947389364242554,0.9947760701179504,0.994813084602356,0.9948499798774719,0.9948864579200745,0.9949227571487427,0.9949589371681213,0.9949948191642761,0.9950305223464966,0.9950659275054932,0.9951008558273315,0.9951357245445251,0.9951704144477844,0.9952050447463989,0.9952394962310791,0.9952738285064697,0.9953078031539917,0.9953415989875793,0.9953752756118774,0.9954087734222412,0.9954421520233154,0.9954753518104553,0.9955084323883057,0.9955413341522217,0.9955739974975586,0.9956064224243164,0.9956386685371399,0.9956708550453186,0.9957029223442078,0.9957347512245178,0.9957664608955383,0.9957979321479797,0.9958290457725525,0.9958598613739014,0.9958906173706055,0.99592125415802,0.995951771736145,0.9959821701049805,0.9960123896598816,0.9960422515869141,0.996071994304657,0.9961014986038208,0.9961308836936951,0.9961601495742798,0.996189296245575,0.9962183237075806,0.9962471723556519,0.9962759017944336,0.9963045120239258,0.9963329434394836,0.9963613152503967,0.9963893294334412,0.9964172840118408,0.9964451789855957,0.9964727163314819,0.9965001940727234,0.9965274333953857,0.9965544939041138,0.9965814352035522,0.9966082572937012,0.9966349601745605,0.9966614842414856,0.9966878890991211,0.9967141151428223,0.9967401027679443,0.9967660307884216,0.9967918395996094,0.9968175292015076,0.996843159198761,0.9968686699867249,0.9968938827514648,0.9969189763069153,0.9969438314437866,0.996968686580658,0.9969934225082397,0.9970180988311768,0.9970424771308899,0.9970666766166687,0.997090756893158,0.9971147179603577,0.997138500213623,0.9971621036529541,0.9971855282783508,0.9972087740898132,0.9972319006919861,0.9972549676895142,0.9972779154777527,0.9973008036613464,0.9973235130310059,0.997346043586731,0.9973683953285217,0.9973905682563782,0.9974126815795898,0.9974346160888672,0.997456431388855,0.9974780678749084,0.9974997043609619,0.997521162033081,0.9975425004959106,0.9975636601448059,0.9975847601890564,0.9976057410240173,0.9976266622543335,0.9976475834846497,0.9976682066917419,0.9976886510848999,0.9977089762687683,0.9977292418479919,0.9977492690086365,0.9977692365646362,0.997789204120636,0.9978090524673462,0.9978287816047668,0.9978484511375427,0.997868001461029,0.9978874921798706,0.9979066252708435,0.9979257583618164,0.9979448914527893,0.9979639053344727,0.9979827404022217,0.9980015158653259,0.9980201125144958,0.9980385899543762,0.9980570077896118,0.9980752468109131,0.9980934262275696,0.9981114268302917,0.9981293678283691,0.998147189617157,0.9981648921966553,0.9981825351715088,0.998199999332428,0.9982174038887024,0.9982346892356873,0.9982518553733826,0.9982689023017883,0.9982858896255493,0.998302698135376,0.9983194470405579,0.998336136341095,0.9983526468276978,0.9983689785003662,0.9983853101730347,0.9984015226364136,0.9984176754951477,0.9984337091445923,0.998449444770813,0.9984651803970337,0.9984808564186096,0.9984964728355408,0.9985120296478271,0.9985273480415344,0.9985425472259521,0.9985577464103699,0.9985728859901428,0.998587965965271,0.9986029863357544,0.998617947101593,0.9986327886581421,0.9986475110054016,0.9986621737480164,0.9986767768859863,0.9986913204193115,0.9987057447433472,0.9987199902534485,0.998734176158905,0.9987483024597168,0.9987623691558838,0.998776376247406,0.9987902641296387,0.9988040924072266,0.9988178014755249,0.9988314509391785,0.9988450407981873,0.9988585114479065,0.998871922492981,0.9988851547241211,0.9988983273506165,0.9989113807678223,0.9989243149757385,0.9989372491836548,0.998950183391571,0.9989629983901978,0.9989756941795349,0.9989883303642273,0.9990009069442749,0.999013364315033,0.9990257620811462,0.99903804063797,0.9990502595901489,0.9990623593330383,0.9990744590759277,0.9990863800048828,0.9990981221199036,0.9991097450256348,0.9991213083267212,0.9991328120231628,0.9991443157196045,0.9991557002067566,0.9991669654846191,0.9991781711578369,0.9991892576217651,0.9992002844810486,0.999211311340332,0.9992222189903259,0.9992331266403198,0.9992439150810242,0.9992546439170837,0.9992653131484985,0.9992758631706238,0.9992862939834595,0.9992966055870056,0.999306857585907,0.9993170499801636,0.9993271827697754,0.9993372559547424,0.9993472099304199,0.9993571043014526,0.9993669986724854,0.9993767738342285,0.9993864893913269,0.9993961453437805,0.9994057416915894,0.9994152784347534,0.9994247555732727,0.9994341135025024,0.9994434118270874,0.9994525909423828,0.9994617104530334,0.9994708299636841,0.9994798302650452,0.9994887709617615,0.9994975924491882,0.9995062947273254,0.9995149374008179,0.9995235204696655,0.9995319843292236,0.999540388584137,0.9995487928390503,0.9995571970939636,0.9995654821395874,0.9995737671852112,0.9995819330215454,0.9995900988578796,0.9995981454849243,0.9996061325073242,0.9996140003204346,0.9996218085289001,0.999629557132721,0.9996371865272522,0.9996448159217834,0.9996523857116699,0.9996598362922668,0.999667227268219,0.9996745586395264,0.999681830406189,0.9996890425682068,0.9996961355209351,0.9997031688690186,0.999710202217102,0.999717116355896,0.9997239708900452,0.9997307658195496,0.9997375011444092,0.999744176864624,0.9997507929801941,0.9997573494911194,0.9997638463973999,0.9997702836990356,0.9997766613960266,0.9997829794883728,0.999789297580719,0.9997955560684204,0.9998018145561218,0.9998078942298889,0.999813973903656,0.9998199343681335,0.9998258948326111,0.9998317956924438,0.9998376369476318,0.999843418598175,0.9998491406440735,0.9998547434806824,0.9998602867126465,0.9998657703399658,0.9998711943626404,0.9998765587806702,0.9998818635940552,0.9998871684074402,0.9998922944068909,0.9998974204063416,0.9999024868011475,0.9999074935913086,0.9999123811721802,0.999917209148407,0.9999219179153442,0.9999266266822815,0.9999313354492188,0.9999359250068665,0.9999404549598694,0.9999448657035828,0.9999492168426514,0.9999535083770752,0.9999577403068542,0.9999619126319885,0.9999660849571228,0.9999701380729675,0.9999741315841675,0.9999781250953674,0.9999819397926331,0.9999857544898987,0.99998939037323,0.9999930262565613,0.9999964833259583,0.9999998211860657,0.9999998211860657],\"yaxis\":\"y\",\"type\":\"scatter\"}],                        {\"template\":{\"data\":{\"bar\":[{\"error_x\":{\"color\":\"#2a3f5f\"},\"error_y\":{\"color\":\"#2a3f5f\"},\"marker\":{\"line\":{\"color\":\"#E5ECF6\",\"width\":0.5},\"pattern\":{\"fillmode\":\"overlay\",\"size\":10,\"solidity\":0.2}},\"type\":\"bar\"}],\"barpolar\":[{\"marker\":{\"line\":{\"color\":\"#E5ECF6\",\"width\":0.5},\"pattern\":{\"fillmode\":\"overlay\",\"size\":10,\"solidity\":0.2}},\"type\":\"barpolar\"}],\"carpet\":[{\"aaxis\":{\"endlinecolor\":\"#2a3f5f\",\"gridcolor\":\"white\",\"linecolor\":\"white\",\"minorgridcolor\":\"white\",\"startlinecolor\":\"#2a3f5f\"},\"baxis\":{\"endlinecolor\":\"#2a3f5f\",\"gridcolor\":\"white\",\"linecolor\":\"white\",\"minorgridcolor\":\"white\",\"startlinecolor\":\"#2a3f5f\"},\"type\":\"carpet\"}],\"choropleth\":[{\"colorbar\":{\"outlinewidth\":0,\"ticks\":\"\"},\"type\":\"choropleth\"}],\"contour\":[{\"colorbar\":{\"outlinewidth\":0,\"ticks\":\"\"},\"colorscale\":[[0.0,\"#0d0887\"],[0.1111111111111111,\"#46039f\"],[0.2222222222222222,\"#7201a8\"],[0.3333333333333333,\"#9c179e\"],[0.4444444444444444,\"#bd3786\"],[0.5555555555555556,\"#d8576b\"],[0.6666666666666666,\"#ed7953\"],[0.7777777777777778,\"#fb9f3a\"],[0.8888888888888888,\"#fdca26\"],[1.0,\"#f0f921\"]],\"type\":\"contour\"}],\"contourcarpet\":[{\"colorbar\":{\"outlinewidth\":0,\"ticks\":\"\"},\"type\":\"contourcarpet\"}],\"heatmap\":[{\"colorbar\":{\"outlinewidth\":0,\"ticks\":\"\"},\"colorscale\":[[0.0,\"#0d0887\"],[0.1111111111111111,\"#46039f\"],[0.2222222222222222,\"#7201a8\"],[0.3333333333333333,\"#9c179e\"],[0.4444444444444444,\"#bd3786\"],[0.5555555555555556,\"#d8576b\"],[0.6666666666666666,\"#ed7953\"],[0.7777777777777778,\"#fb9f3a\"],[0.8888888888888888,\"#fdca26\"],[1.0,\"#f0f921\"]],\"type\":\"heatmap\"}],\"heatmapgl\":[{\"colorbar\":{\"outlinewidth\":0,\"ticks\":\"\"},\"colorscale\":[[0.0,\"#0d0887\"],[0.1111111111111111,\"#46039f\"],[0.2222222222222222,\"#7201a8\"],[0.3333333333333333,\"#9c179e\"],[0.4444444444444444,\"#bd3786\"],[0.5555555555555556,\"#d8576b\"],[0.6666666666666666,\"#ed7953\"],[0.7777777777777778,\"#fb9f3a\"],[0.8888888888888888,\"#fdca26\"],[1.0,\"#f0f921\"]],\"type\":\"heatmapgl\"}],\"histogram\":[{\"marker\":{\"pattern\":{\"fillmode\":\"overlay\",\"size\":10,\"solidity\":0.2}},\"type\":\"histogram\"}],\"histogram2d\":[{\"colorbar\":{\"outlinewidth\":0,\"ticks\":\"\"},\"colorscale\":[[0.0,\"#0d0887\"],[0.1111111111111111,\"#46039f\"],[0.2222222222222222,\"#7201a8\"],[0.3333333333333333,\"#9c179e\"],[0.4444444444444444,\"#bd3786\"],[0.5555555555555556,\"#d8576b\"],[0.6666666666666666,\"#ed7953\"],[0.7777777777777778,\"#fb9f3a\"],[0.8888888888888888,\"#fdca26\"],[1.0,\"#f0f921\"]],\"type\":\"histogram2d\"}],\"histogram2dcontour\":[{\"colorbar\":{\"outlinewidth\":0,\"ticks\":\"\"},\"colorscale\":[[0.0,\"#0d0887\"],[0.1111111111111111,\"#46039f\"],[0.2222222222222222,\"#7201a8\"],[0.3333333333333333,\"#9c179e\"],[0.4444444444444444,\"#bd3786\"],[0.5555555555555556,\"#d8576b\"],[0.6666666666666666,\"#ed7953\"],[0.7777777777777778,\"#fb9f3a\"],[0.8888888888888888,\"#fdca26\"],[1.0,\"#f0f921\"]],\"type\":\"histogram2dcontour\"}],\"mesh3d\":[{\"colorbar\":{\"outlinewidth\":0,\"ticks\":\"\"},\"type\":\"mesh3d\"}],\"parcoords\":[{\"line\":{\"colorbar\":{\"outlinewidth\":0,\"ticks\":\"\"}},\"type\":\"parcoords\"}],\"pie\":[{\"automargin\":true,\"type\":\"pie\"}],\"scatter\":[{\"marker\":{\"colorbar\":{\"outlinewidth\":0,\"ticks\":\"\"}},\"type\":\"scatter\"}],\"scatter3d\":[{\"line\":{\"colorbar\":{\"outlinewidth\":0,\"ticks\":\"\"}},\"marker\":{\"colorbar\":{\"outlinewidth\":0,\"ticks\":\"\"}},\"type\":\"scatter3d\"}],\"scattercarpet\":[{\"marker\":{\"colorbar\":{\"outlinewidth\":0,\"ticks\":\"\"}},\"type\":\"scattercarpet\"}],\"scattergeo\":[{\"marker\":{\"colorbar\":{\"outlinewidth\":0,\"ticks\":\"\"}},\"type\":\"scattergeo\"}],\"scattergl\":[{\"marker\":{\"colorbar\":{\"outlinewidth\":0,\"ticks\":\"\"}},\"type\":\"scattergl\"}],\"scattermapbox\":[{\"marker\":{\"colorbar\":{\"outlinewidth\":0,\"ticks\":\"\"}},\"type\":\"scattermapbox\"}],\"scatterpolar\":[{\"marker\":{\"colorbar\":{\"outlinewidth\":0,\"ticks\":\"\"}},\"type\":\"scatterpolar\"}],\"scatterpolargl\":[{\"marker\":{\"colorbar\":{\"outlinewidth\":0,\"ticks\":\"\"}},\"type\":\"scatterpolargl\"}],\"scatterternary\":[{\"marker\":{\"colorbar\":{\"outlinewidth\":0,\"ticks\":\"\"}},\"type\":\"scatterternary\"}],\"surface\":[{\"colorbar\":{\"outlinewidth\":0,\"ticks\":\"\"},\"colorscale\":[[0.0,\"#0d0887\"],[0.1111111111111111,\"#46039f\"],[0.2222222222222222,\"#7201a8\"],[0.3333333333333333,\"#9c179e\"],[0.4444444444444444,\"#bd3786\"],[0.5555555555555556,\"#d8576b\"],[0.6666666666666666,\"#ed7953\"],[0.7777777777777778,\"#fb9f3a\"],[0.8888888888888888,\"#fdca26\"],[1.0,\"#f0f921\"]],\"type\":\"surface\"}],\"table\":[{\"cells\":{\"fill\":{\"color\":\"#EBF0F8\"},\"line\":{\"color\":\"white\"}},\"header\":{\"fill\":{\"color\":\"#C8D4E3\"},\"line\":{\"color\":\"white\"}},\"type\":\"table\"}]},\"layout\":{\"annotationdefaults\":{\"arrowcolor\":\"#2a3f5f\",\"arrowhead\":0,\"arrowwidth\":1},\"autotypenumbers\":\"strict\",\"coloraxis\":{\"colorbar\":{\"outlinewidth\":0,\"ticks\":\"\"}},\"colorscale\":{\"diverging\":[[0,\"#8e0152\"],[0.1,\"#c51b7d\"],[0.2,\"#de77ae\"],[0.3,\"#f1b6da\"],[0.4,\"#fde0ef\"],[0.5,\"#f7f7f7\"],[0.6,\"#e6f5d0\"],[0.7,\"#b8e186\"],[0.8,\"#7fbc41\"],[0.9,\"#4d9221\"],[1,\"#276419\"]],\"sequential\":[[0.0,\"#0d0887\"],[0.1111111111111111,\"#46039f\"],[0.2222222222222222,\"#7201a8\"],[0.3333333333333333,\"#9c179e\"],[0.4444444444444444,\"#bd3786\"],[0.5555555555555556,\"#d8576b\"],[0.6666666666666666,\"#ed7953\"],[0.7777777777777778,\"#fb9f3a\"],[0.8888888888888888,\"#fdca26\"],[1.0,\"#f0f921\"]],\"sequentialminus\":[[0.0,\"#0d0887\"],[0.1111111111111111,\"#46039f\"],[0.2222222222222222,\"#7201a8\"],[0.3333333333333333,\"#9c179e\"],[0.4444444444444444,\"#bd3786\"],[0.5555555555555556,\"#d8576b\"],[0.6666666666666666,\"#ed7953\"],[0.7777777777777778,\"#fb9f3a\"],[0.8888888888888888,\"#fdca26\"],[1.0,\"#f0f921\"]]},\"colorway\":[\"#636efa\",\"#EF553B\",\"#00cc96\",\"#ab63fa\",\"#FFA15A\",\"#19d3f3\",\"#FF6692\",\"#B6E880\",\"#FF97FF\",\"#FECB52\"],\"font\":{\"color\":\"#2a3f5f\"},\"geo\":{\"bgcolor\":\"white\",\"lakecolor\":\"white\",\"landcolor\":\"#E5ECF6\",\"showlakes\":true,\"showland\":true,\"subunitcolor\":\"white\"},\"hoverlabel\":{\"align\":\"left\"},\"hovermode\":\"closest\",\"mapbox\":{\"style\":\"light\"},\"paper_bgcolor\":\"white\",\"plot_bgcolor\":\"#E5ECF6\",\"polar\":{\"angularaxis\":{\"gridcolor\":\"white\",\"linecolor\":\"white\",\"ticks\":\"\"},\"bgcolor\":\"#E5ECF6\",\"radialaxis\":{\"gridcolor\":\"white\",\"linecolor\":\"white\",\"ticks\":\"\"}},\"scene\":{\"xaxis\":{\"backgroundcolor\":\"#E5ECF6\",\"gridcolor\":\"white\",\"gridwidth\":2,\"linecolor\":\"white\",\"showbackground\":true,\"ticks\":\"\",\"zerolinecolor\":\"white\"},\"yaxis\":{\"backgroundcolor\":\"#E5ECF6\",\"gridcolor\":\"white\",\"gridwidth\":2,\"linecolor\":\"white\",\"showbackground\":true,\"ticks\":\"\",\"zerolinecolor\":\"white\"},\"zaxis\":{\"backgroundcolor\":\"#E5ECF6\",\"gridcolor\":\"white\",\"gridwidth\":2,\"linecolor\":\"white\",\"showbackground\":true,\"ticks\":\"\",\"zerolinecolor\":\"white\"}},\"shapedefaults\":{\"line\":{\"color\":\"#2a3f5f\"}},\"ternary\":{\"aaxis\":{\"gridcolor\":\"white\",\"linecolor\":\"white\",\"ticks\":\"\"},\"baxis\":{\"gridcolor\":\"white\",\"linecolor\":\"white\",\"ticks\":\"\"},\"bgcolor\":\"#E5ECF6\",\"caxis\":{\"gridcolor\":\"white\",\"linecolor\":\"white\",\"ticks\":\"\"}},\"title\":{\"x\":0.05},\"xaxis\":{\"automargin\":true,\"gridcolor\":\"white\",\"linecolor\":\"white\",\"ticks\":\"\",\"title\":{\"standoff\":15},\"zerolinecolor\":\"white\",\"zerolinewidth\":2},\"yaxis\":{\"automargin\":true,\"gridcolor\":\"white\",\"linecolor\":\"white\",\"ticks\":\"\",\"title\":{\"standoff\":15},\"zerolinecolor\":\"white\",\"zerolinewidth\":2}}},\"xaxis\":{\"anchor\":\"y\",\"domain\":[0.0,1.0],\"title\":{\"text\":\"# Components\"}},\"yaxis\":{\"anchor\":\"x\",\"domain\":[0.0,1.0],\"title\":{\"text\":\"Explained Variance\"}},\"legend\":{\"tracegroupgap\":0},\"margin\":{\"t\":60}},                        {\"responsive\": true}                    ).then(function(){\n",
              "                            \n",
              "var gd = document.getElementById('25bf2649-1f02-4148-a587-9d2d074c4b18');\n",
              "var x = new MutationObserver(function (mutations, observer) {{\n",
              "        var display = window.getComputedStyle(gd).display;\n",
              "        if (!display || display === 'none') {{\n",
              "            console.log([gd, 'removed!']);\n",
              "            Plotly.purge(gd);\n",
              "            observer.disconnect();\n",
              "        }}\n",
              "}});\n",
              "\n",
              "// Listen for the removal of the full notebook cells\n",
              "var notebookContainer = gd.closest('#notebook-container');\n",
              "if (notebookContainer) {{\n",
              "    x.observe(notebookContainer, {childList: true});\n",
              "}}\n",
              "\n",
              "// Listen for the clearing of the current output cell\n",
              "var outputEl = gd.closest('.output');\n",
              "if (outputEl) {{\n",
              "    x.observe(outputEl, {childList: true});\n",
              "}}\n",
              "\n",
              "                        })                };                            </script>        </div>\n",
              "</body>\n",
              "</html>"
            ]
          },
          "metadata": {}
        }
      ],
      "source": [
        "import plotly.express as px\n",
        "import numpy as np\n",
        "import pandas as pd\n",
        "from sklearn.decomposition import PCA\n",
        "\n",
        "\n",
        "\n",
        "df_pca = pd.DataFrame(X_Train_embeddings)\n",
        "\n",
        "pca = PCA()\n",
        "pca.fit(df_pca)\n",
        "exp_var_cumul = np.cumsum(pca.explained_variance_ratio_)\n",
        "\n",
        "px.area(\n",
        "    x=range(1, exp_var_cumul.shape[0] + 1),\n",
        "    y=exp_var_cumul,\n",
        "    labels={\"x\": \"# Components\", \"y\": \"Explained Variance\"}\n",
        ")"
      ]
    },
    {
      "cell_type": "markdown",
      "metadata": {
        "id": "7TqEiBDzVtZ1"
      },
      "source": [
        "PCA Implementation"
      ]
    },
    {
      "cell_type": "code",
      "execution_count": null,
      "metadata": {
        "id": "FstMZf1yVYXt"
      },
      "outputs": [],
      "source": [
        " \n",
        "scaler = MinMaxScaler()\n",
        "data_rescaled = scaler.fit_transform(X_Test_embeddings)\n",
        "pca = PCA(n_components = 155)\n",
        "pca.fit(data_rescaled)\n",
        "PCA_Vector = pca.transform(data_rescaled)"
      ]
    },
    {
      "cell_type": "code",
      "execution_count": null,
      "metadata": {
        "id": "mKaqhTonXldL"
      },
      "outputs": [],
      "source": [
        "X_Train = PCA_Vector"
      ]
    },
    {
      "cell_type": "code",
      "execution_count": null,
      "metadata": {
        "id": "ypOvflg5lMRj"
      },
      "outputs": [],
      "source": [
        "X_Test = PCA_Vector"
      ]
    },
    {
      "cell_type": "code",
      "execution_count": null,
      "metadata": {
        "colab": {
          "base_uri": "https://localhost:8080/"
        },
        "id": "EEe2VgLllQtP",
        "outputId": "62fe12f3-aa62-49bb-d7a3-509d662c530e"
      },
      "outputs": [
        {
          "output_type": "execute_result",
          "data": {
            "text/plain": [
              "(1785, 155)"
            ]
          },
          "metadata": {},
          "execution_count": 40
        }
      ],
      "source": [
        "X_Test.shape"
      ]
    },
    {
      "cell_type": "markdown",
      "metadata": {
        "id": "1Y9sxZoIaEQW"
      },
      "source": [
        "SVM Model"
      ]
    },
    {
      "cell_type": "code",
      "execution_count": null,
      "metadata": {
        "id": "Lrp39hjXaGym"
      },
      "outputs": [],
      "source": [
        "from sklearn import svm\n",
        "import pandas as pd\n",
        "from sklearn.metrics import accuracy_score\n",
        "import warnings\n",
        "warnings.filterwarnings('ignore')\n",
        "\n",
        "# Create Linear SVM object\n",
        "support = svm.LinearSVC(random_state=20)"
      ]
    },
    {
      "cell_type": "markdown",
      "metadata": {
        "id": "Q45WmRx2cZFh"
      },
      "source": [
        "Model Tuning\n",
        "\n",
        "1.Multiple Randomn search for svm.\n",
        "2.Try class weights [higher weight for miss classified classes].\n",
        "\n",
        "3.Learn the reviews.[abeguity][p1].\n",
        "4.Data preprocessing[p2].\n",
        "5.Diff bert embeddings[p3]."
      ]
    },
    {
      "cell_type": "code",
      "execution_count": null,
      "metadata": {
        "colab": {
          "base_uri": "https://localhost:8080/"
        },
        "id": "5XgsffzDaNR8",
        "outputId": "66838219-0b68-4d88-99c7-32d414ab1e44"
      },
      "outputs": [
        {
          "output_type": "execute_result",
          "data": {
            "text/plain": [
              "LinearSVC(random_state=20)"
            ]
          },
          "metadata": {},
          "execution_count": 42
        }
      ],
      "source": [
        "support.fit(X_Train, Train_labels)"
      ]
    },
    {
      "cell_type": "code",
      "execution_count": null,
      "metadata": {
        "id": "vZUF19vQlf0x"
      },
      "outputs": [],
      "source": [
        "y_pred = support.predict(X_Test)"
      ]
    },
    {
      "cell_type": "code",
      "execution_count": null,
      "metadata": {
        "colab": {
          "base_uri": "https://localhost:8080/"
        },
        "id": "d84pCTpmGUOm",
        "outputId": "9928778d-74a7-4a25-ea73-8f92dc466c3d"
      },
      "outputs": [
        {
          "output_type": "stream",
          "name": "stdout",
          "text": [
            "(1785, 1)\n",
            "(1785,)\n"
          ]
        }
      ],
      "source": [
        "print(Test_labels.shape)\n",
        "print(y_pred.shape)"
      ]
    },
    {
      "cell_type": "markdown",
      "metadata": {
        "id": "m2hyaXrqG2sJ"
      },
      "source": [
        "Reports\n",
        "\n",
        "1.Train and Test Accuracy"
      ]
    },
    {
      "cell_type": "code",
      "execution_count": null,
      "metadata": {
        "colab": {
          "base_uri": "https://localhost:8080/"
        },
        "id": "ugIvzlrrn2fx",
        "outputId": "999d84c8-302d-4f32-94e8-dcbeb53343b7"
      },
      "outputs": [
        {
          "output_type": "stream",
          "name": "stdout",
          "text": [
            "Trainig Accuracy :  0.8380566801619433\n",
            "Test Accuracy :  0.4280112044817927\n"
          ]
        }
      ],
      "source": [
        "print(\"Trainig Accuracy : \",accuracy_score(Train_labels, support.predict(X_Train)))\n",
        "print(\"Test Accuracy : \",accuracy_score(Test_labels, y_pred))"
      ]
    },
    {
      "cell_type": "markdown",
      "metadata": {
        "id": "WocoM6MeHtho"
      },
      "source": [
        "Classification Report"
      ]
    },
    {
      "cell_type": "code",
      "execution_count": null,
      "metadata": {
        "id": "L91WScpBDSr3"
      },
      "outputs": [],
      "source": [
        "from sklearn.metrics import confusion_matrix\n",
        "import seaborn as sns\n",
        "from sklearn.metrics import classification_report\n",
        "from sklearn.datasets import make_classification\n",
        "from sklearn.model_selection  import StratifiedShuffleSplit\n",
        "from sklearn.metrics import accuracy_score, f1_score, precision_score, recall_score, classification_report, confusion_matrix"
      ]
    },
    {
      "cell_type": "code",
      "execution_count": null,
      "metadata": {
        "id": "JmdCjBXoF4EE"
      },
      "outputs": [],
      "source": [
        "# print(f1_score(Test_labels, y_pred, average=\"macro\"))\n",
        "# print(precision_score(Test_labels, y_pred, average=\"macro\"))\n",
        "# print(recall_score(Test_labels, y_pred, average=\"macro\"))  "
      ]
    },
    {
      "cell_type": "code",
      "execution_count": null,
      "metadata": {
        "colab": {
          "base_uri": "https://localhost:8080/"
        },
        "id": "z-CSKJLpG8Z6",
        "outputId": "c83fb4e6-a97f-4d7c-fe42-48366e881397"
      },
      "outputs": [
        {
          "output_type": "stream",
          "name": "stdout",
          "text": [
            "\n",
            "Classification Report\n",
            "\n",
            "              precision    recall  f1-score   support\n",
            "\n",
            "   Bupropion       0.25      0.22      0.24       347\n",
            "  Gabapentin       0.36      0.36      0.36       368\n",
            "    Implanon       0.60      0.66      0.63       404\n",
            "  Miconazole       0.56      0.66      0.60       344\n",
            " Venlafaxine       0.23      0.19      0.21       322\n",
            "\n",
            "    accuracy                           0.43      1785\n",
            "   macro avg       0.40      0.42      0.41      1785\n",
            "weighted avg       0.41      0.43      0.42      1785\n",
            "\n"
          ]
        }
      ],
      "source": [
        "from sklearn.metrics import classification_report\n",
        "print('\\nClassification Report\\n')\n",
        "print(classification_report(Test_labels, y_pred, target_names=['Bupropion', 'Gabapentin', 'Implanon', 'Miconazole', 'Venlafaxine']))"
      ]
    },
    {
      "cell_type": "code",
      "execution_count": null,
      "metadata": {
        "id": "ptitlC5BDXcO"
      },
      "outputs": [],
      "source": [
        "cm = confusion_matrix(Test_labels, y_pred)"
      ]
    },
    {
      "cell_type": "code",
      "execution_count": null,
      "metadata": {
        "id": "QU6D5r9pDin2"
      },
      "outputs": [],
      "source": [
        "cm_df = pd.DataFrame(cm,\n",
        "                     index = ['Bupropion', 'Gabapentin', 'Implanon', 'Miconazole', 'Venlafaxine'], \n",
        "                     columns = ['Bupropion', 'Gabapentin', 'Implanon', 'Miconazole', 'Venlafaxine'])"
      ]
    },
    {
      "cell_type": "code",
      "execution_count": null,
      "metadata": {
        "colab": {
          "base_uri": "https://localhost:8080/",
          "height": 344
        },
        "id": "DEId4A1yDnTe",
        "outputId": "13020e87-cf8d-493c-e7b4-7770c0889ac1"
      },
      "outputs": [
        {
          "output_type": "display_data",
          "data": {
            "text/plain": [
              "<Figure size 360x288 with 2 Axes>"
            ],
            "image/png": "[encoded data removed]"
          },
          "metadata": {
            "needs_background": "light"
          }
        }
      ],
      "source": [
        "#Plotting the confusion matrix\n",
        "plt.figure(figsize=(5,4))\n",
        "sns.heatmap(cm_df, annot=True)\n",
        "plt.title('Confusion Matrix')\n",
        "plt.ylabel('Actal Values')\n",
        "plt.xlabel('Predicted Values')\n",
        "plt.show()"
      ]
    }
  ],
  "metadata": {
    "accelerator": "GPU",
    "colab": {
      "name": "(5classes)Bert+PCA_data.ipynb",
      "provenance": []
    },
    "gpuClass": "standard",
    "kernelspec": {
      "display_name": "Python 3",
      "name": "python3"
    },
    "language_info": {
      "name": "python"
    },
    "widgets": {
      "application/vnd.jupyter.widget-state+json": {
        "03e819b3b11442468418401dd258597b": {
          "model_module": "@jupyter-widgets/controls",
          "model_module_version": "1.5.0",
          "model_name": "HBoxModel",
          "state": {
            "_dom_classes": [],
            "_model_module": "@jupyter-widgets/controls",
            "_model_module_version": "1.5.0",
            "_model_name": "HBoxModel",
            "_view_count": null,
            "_view_module": "@jupyter-widgets/controls",
            "_view_module_version": "1.5.0",
            "_view_name": "HBoxView",
            "box_style": "",
            "children": [
              "IPY_MODEL_b833aab47a414f148b360d6fb3c2db94",
              "IPY_MODEL_6ac902d3feaa4b4983172ac58f6a34e3",
              "IPY_MODEL_5f281e14be8f4bf8920c37224272b86f"
            ],
            "layout": "IPY_MODEL_39873dc7b91d43299728794e316983f0"
          }
        },
        "0438fe14ee9f417cae32614e22fac925": {
          "model_module": "@jupyter-widgets/controls",
          "model_module_version": "1.5.0",
          "model_name": "DescriptionStyleModel",
          "state": {
            "_model_module": "@jupyter-widgets/controls",
            "_model_module_version": "1.5.0",
            "_model_name": "DescriptionStyleModel",
            "_view_count": null,
            "_view_module": "@jupyter-widgets/base",
            "_view_module_version": "1.2.0",
            "_view_name": "StyleView",
            "description_width": ""
          }
        },
        "05aa4fd94d404036bd1350aa62a84203": {
          "model_module": "@jupyter-widgets/controls",
          "model_module_version": "1.5.0",
          "model_name": "DescriptionStyleModel",
          "state": {
            "_model_module": "@jupyter-widgets/controls",
            "_model_module_version": "1.5.0",
            "_model_name": "DescriptionStyleModel",
            "_view_count": null,
            "_view_module": "@jupyter-widgets/base",
            "_view_module_version": "1.2.0",
            "_view_name": "StyleView",
            "description_width": ""
          }
        },
        "0e308828f6f9464ba17488c48e1932e5": {
          "model_module": "@jupyter-widgets/controls",
          "model_module_version": "1.5.0",
          "model_name": "HTMLModel",
          "state": {
            "_dom_classes": [],
            "_model_module": "@jupyter-widgets/controls",
            "_model_module_version": "1.5.0",
            "_model_name": "HTMLModel",
            "_view_count": null,
            "_view_module": "@jupyter-widgets/controls",
            "_view_module_version": "1.5.0",
            "_view_name": "HTMLView",
            "description": "",
            "description_tooltip": null,
            "layout": "IPY_MODEL_34499f6d99cb41d39447c7f1036fbb8a",
            "placeholder": "​",
            "style": "IPY_MODEL_f7fa229e8c8d455aac7dcc36e10d3700",
            "value": "Downloading: 100%"
          }
        },
        "0f2e6a1a95c44fe281ed9d46de8d27ee": {
          "model_module": "@jupyter-widgets/base",
          "model_module_version": "1.2.0",
          "model_name": "LayoutModel",
          "state": {
            "_model_module": "@jupyter-widgets/base",
            "_model_module_version": "1.2.0",
            "_model_name": "LayoutModel",
            "_view_count": null,
            "_view_module": "@jupyter-widgets/base",
            "_view_module_version": "1.2.0",
            "_view_name": "LayoutView",
            "align_content": null,
            "align_items": null,
            "align_self": null,
            "border": null,
            "bottom": null,
            "display": null,
            "flex": null,
            "flex_flow": null,
            "grid_area": null,
            "grid_auto_columns": null,
            "grid_auto_flow": null,
            "grid_auto_rows": null,
            "grid_column": null,
            "grid_gap": null,
            "grid_row": null,
            "grid_template_areas": null,
            "grid_template_columns": null,
            "grid_template_rows": null,
            "height": null,
            "justify_content": null,
            "justify_items": null,
            "left": null,
            "margin": null,
            "max_height": null,
            "max_width": null,
            "min_height": null,
            "min_width": null,
            "object_fit": null,
            "object_position": null,
            "order": null,
            "overflow": null,
            "overflow_x": null,
            "overflow_y": null,
            "padding": null,
            "right": null,
            "top": null,
            "visibility": null,
            "width": null
          }
        },
        "0f6a28b554ea4f358cd3d34494087dc2": {
          "model_module": "@jupyter-widgets/controls",
          "model_module_version": "1.5.0",
          "model_name": "FloatProgressModel",
          "state": {
            "_dom_classes": [],
            "_model_module": "@jupyter-widgets/controls",
            "_model_module_version": "1.5.0",
            "_model_name": "FloatProgressModel",
            "_view_count": null,
            "_view_module": "@jupyter-widgets/controls",
            "_view_module_version": "1.5.0",
            "_view_name": "ProgressView",
            "bar_style": "success",
            "description": "",
            "description_tooltip": null,
            "layout": "IPY_MODEL_e05ff12dd3e940889edacebe6beef302",
            "max": 539,
            "min": 0,
            "orientation": "horizontal",
            "style": "IPY_MODEL_dd0a7022210a49c5b81c3c3fa37e6dcc",
            "value": 539
          }
        },
        "1325db1b390a4a7a99b4d6c3a720c00f": {
          "model_module": "@jupyter-widgets/controls",
          "model_module_version": "1.5.0",
          "model_name": "HTMLModel",
          "state": {
            "_dom_classes": [],
            "_model_module": "@jupyter-widgets/controls",
            "_model_module_version": "1.5.0",
            "_model_name": "HTMLModel",
            "_view_count": null,
            "_view_module": "@jupyter-widgets/controls",
            "_view_module_version": "1.5.0",
            "_view_name": "HTMLView",
            "description": "",
            "description_tooltip": null,
            "layout": "IPY_MODEL_5f5cb8d1fec34c9392f966b9b3721ccb",
            "placeholder": "​",
            "style": "IPY_MODEL_a58cca841c31481ebb9dfd127b18311a",
            "value": " 455k/455k [00:00&lt;00:00, 1.95MB/s]"
          }
        },
        "1bca35eb8e0f43a8a3eb5c5c80785125": {
          "model_module": "@jupyter-widgets/controls",
          "model_module_version": "1.5.0",
          "model_name": "FloatProgressModel",
          "state": {
            "_dom_classes": [],
            "_model_module": "@jupyter-widgets/controls",
            "_model_module_version": "1.5.0",
            "_model_name": "FloatProgressModel",
            "_view_count": null,
            "_view_module": "@jupyter-widgets/controls",
            "_view_module_version": "1.5.0",
            "_view_name": "ProgressView",
            "bar_style": "success",
            "description": "",
            "description_tooltip": null,
            "layout": "IPY_MODEL_4021dfe6a9b94dfdac30e8128ab64a2c",
            "max": 489,
            "min": 0,
            "orientation": "horizontal",
            "style": "IPY_MODEL_c909e077b8c04986873bfe5d062d113c",
            "value": 489
          }
        },
        "1d24a86a25a84fed9a481409eec6bb35": {
          "model_module": "@jupyter-widgets/base",
          "model_module_version": "1.2.0",
          "model_name": "LayoutModel",
          "state": {
            "_model_module": "@jupyter-widgets/base",
            "_model_module_version": "1.2.0",
            "_model_name": "LayoutModel",
            "_view_count": null,
            "_view_module": "@jupyter-widgets/base",
            "_view_module_version": "1.2.0",
            "_view_name": "LayoutView",
            "align_content": null,
            "align_items": null,
            "align_self": null,
            "border": null,
            "bottom": null,
            "display": null,
            "flex": null,
            "flex_flow": null,
            "grid_area": null,
            "grid_auto_columns": null,
            "grid_auto_flow": null,
            "grid_auto_rows": null,
            "grid_column": null,
            "grid_gap": null,
            "grid_row": null,
            "grid_template_areas": null,
            "grid_template_columns": null,
            "grid_template_rows": null,
            "height": null,
            "justify_content": null,
            "justify_items": null,
            "left": null,
            "margin": null,
            "max_height": null,
            "max_width": null,
            "min_height": null,
            "min_width": null,
            "object_fit": null,
            "object_position": null,
            "order": null,
            "overflow": null,
            "overflow_x": null,
            "overflow_y": null,
            "padding": null,
            "right": null,
            "top": null,
            "visibility": null,
            "width": null
          }
        },
        "2c05c2a9b6ca477781d2683aad9730b2": {
          "model_module": "@jupyter-widgets/base",
          "model_module_version": "1.2.0",
          "model_name": "LayoutModel",
          "state": {
            "_model_module": "@jupyter-widgets/base",
            "_model_module_version": "1.2.0",
            "_model_name": "LayoutModel",
            "_view_count": null,
            "_view_module": "@jupyter-widgets/base",
            "_view_module_version": "1.2.0",
            "_view_name": "LayoutView",
            "align_content": null,
            "align_items": null,
            "align_self": null,
            "border": null,
            "bottom": null,
            "display": null,
            "flex": null,
            "flex_flow": null,
            "grid_area": null,
            "grid_auto_columns": null,
            "grid_auto_flow": null,
            "grid_auto_rows": null,
            "grid_column": null,
            "grid_gap": null,
            "grid_row": null,
            "grid_template_areas": null,
            "grid_template_columns": null,
            "grid_template_rows": null,
            "height": null,
            "justify_content": null,
            "justify_items": null,
            "left": null,
            "margin": null,
            "max_height": null,
            "max_width": null,
            "min_height": null,
            "min_width": null,
            "object_fit": null,
            "object_position": null,
            "order": null,
            "overflow": null,
            "overflow_x": null,
            "overflow_y": null,
            "padding": null,
            "right": null,
            "top": null,
            "visibility": null,
            "width": null
          }
        },
        "2cd1bea06afa4f499bba2ec2377d9548": {
          "model_module": "@jupyter-widgets/base",
          "model_module_version": "1.2.0",
          "model_name": "LayoutModel",
          "state": {
            "_model_module": "@jupyter-widgets/base",
            "_model_module_version": "1.2.0",
            "_model_name": "LayoutModel",
            "_view_count": null,
            "_view_module": "@jupyter-widgets/base",
            "_view_module_version": "1.2.0",
            "_view_name": "LayoutView",
            "align_content": null,
            "align_items": null,
            "align_self": null,
            "border": null,
            "bottom": null,
            "display": null,
            "flex": null,
            "flex_flow": null,
            "grid_area": null,
            "grid_auto_columns": null,
            "grid_auto_flow": null,
            "grid_auto_rows": null,
            "grid_column": null,
            "grid_gap": null,
            "grid_row": null,
            "grid_template_areas": null,
            "grid_template_columns": null,
            "grid_template_rows": null,
            "height": null,
            "justify_content": null,
            "justify_items": null,
            "left": null,
            "margin": null,
            "max_height": null,
            "max_width": null,
            "min_height": null,
            "min_width": null,
            "object_fit": null,
            "object_position": null,
            "order": null,
            "overflow": null,
            "overflow_x": null,
            "overflow_y": null,
            "padding": null,
            "right": null,
            "top": null,
            "visibility": null,
            "width": null
          }
        },
        "2e71acc5496144a9b620e55d86441795": {
          "model_module": "@jupyter-widgets/controls",
          "model_module_version": "1.5.0",
          "model_name": "HTMLModel",
          "state": {
            "_dom_classes": [],
            "_model_module": "@jupyter-widgets/controls",
            "_model_module_version": "1.5.0",
            "_model_name": "HTMLModel",
            "_view_count": null,
            "_view_module": "@jupyter-widgets/controls",
            "_view_module_version": "1.5.0",
            "_view_name": "HTMLView",
            "description": "",
            "description_tooltip": null,
            "layout": "IPY_MODEL_bb4307d8ce5045f69b554c6c40eb38cb",
            "placeholder": "​",
            "style": "IPY_MODEL_70ac3a541aeb460889c1796b054dd0c0",
            "value": " 539/539 [00:00&lt;00:00, 14.8kB/s]"
          }
        },
        "3268ad67e950495ea131c8e5f2260f7b": {
          "model_module": "@jupyter-widgets/controls",
          "model_module_version": "1.5.0",
          "model_name": "ProgressStyleModel",
          "state": {
            "_model_module": "@jupyter-widgets/controls",
            "_model_module_version": "1.5.0",
            "_model_name": "ProgressStyleModel",
            "_view_count": null,
            "_view_module": "@jupyter-widgets/base",
            "_view_module_version": "1.2.0",
            "_view_name": "StyleView",
            "bar_color": null,
            "description_width": ""
          }
        },
        "34499f6d99cb41d39447c7f1036fbb8a": {
          "model_module": "@jupyter-widgets/base",
          "model_module_version": "1.2.0",
          "model_name": "LayoutModel",
          "state": {
            "_model_module": "@jupyter-widgets/base",
            "_model_module_version": "1.2.0",
            "_model_name": "LayoutModel",
            "_view_count": null,
            "_view_module": "@jupyter-widgets/base",
            "_view_module_version": "1.2.0",
            "_view_name": "LayoutView",
            "align_content": null,
            "align_items": null,
            "align_self": null,
            "border": null,
            "bottom": null,
            "display": null,
            "flex": null,
            "flex_flow": null,
            "grid_area": null,
            "grid_auto_columns": null,
            "grid_auto_flow": null,
            "grid_auto_rows": null,
            "grid_column": null,
            "grid_gap": null,
            "grid_row": null,
            "grid_template_areas": null,
            "grid_template_columns": null,
            "grid_template_rows": null,
            "height": null,
            "justify_content": null,
            "justify_items": null,
            "left": null,
            "margin": null,
            "max_height": null,
            "max_width": null,
            "min_height": null,
            "min_width": null,
            "object_fit": null,
            "object_position": null,
            "order": null,
            "overflow": null,
            "overflow_x": null,
            "overflow_y": null,
            "padding": null,
            "right": null,
            "top": null,
            "visibility": null,
            "width": null
          }
        },
        "37c65ec6c7fc450f880e81640fa4d243": {
          "model_module": "@jupyter-widgets/base",
          "model_module_version": "1.2.0",
          "model_name": "LayoutModel",
          "state": {
            "_model_module": "@jupyter-widgets/base",
            "_model_module_version": "1.2.0",
            "_model_name": "LayoutModel",
            "_view_count": null,
            "_view_module": "@jupyter-widgets/base",
            "_view_module_version": "1.2.0",
            "_view_name": "LayoutView",
            "align_content": null,
            "align_items": null,
            "align_self": null,
            "border": null,
            "bottom": null,
            "display": null,
            "flex": null,
            "flex_flow": null,
            "grid_area": null,
            "grid_auto_columns": null,
            "grid_auto_flow": null,
            "grid_auto_rows": null,
            "grid_column": null,
            "grid_gap": null,
            "grid_row": null,
            "grid_template_areas": null,
            "grid_template_columns": null,
            "grid_template_rows": null,
            "height": null,
            "justify_content": null,
            "justify_items": null,
            "left": null,
            "margin": null,
            "max_height": null,
            "max_width": null,
            "min_height": null,
            "min_width": null,
            "object_fit": null,
            "object_position": null,
            "order": null,
            "overflow": null,
            "overflow_x": null,
            "overflow_y": null,
            "padding": null,
            "right": null,
            "top": null,
            "visibility": null,
            "width": null
          }
        },
        "39873dc7b91d43299728794e316983f0": {
          "model_module": "@jupyter-widgets/base",
          "model_module_version": "1.2.0",
          "model_name": "LayoutModel",
          "state": {
            "_model_module": "@jupyter-widgets/base",
            "_model_module_version": "1.2.0",
            "_model_name": "LayoutModel",
            "_view_count": null,
            "_view_module": "@jupyter-widgets/base",
            "_view_module_version": "1.2.0",
            "_view_name": "LayoutView",
            "align_content": null,
            "align_items": null,
            "align_self": null,
            "border": null,
            "bottom": null,
            "display": null,
            "flex": null,
            "flex_flow": null,
            "grid_area": null,
            "grid_auto_columns": null,
            "grid_auto_flow": null,
            "grid_auto_rows": null,
            "grid_column": null,
            "grid_gap": null,
            "grid_row": null,
            "grid_template_areas": null,
            "grid_template_columns": null,
            "grid_template_rows": null,
            "height": null,
            "justify_content": null,
            "justify_items": null,
            "left": null,
            "margin": null,
            "max_height": null,
            "max_width": null,
            "min_height": null,
            "min_width": null,
            "object_fit": null,
            "object_position": null,
            "order": null,
            "overflow": null,
            "overflow_x": null,
            "overflow_y": null,
            "padding": null,
            "right": null,
            "top": null,
            "visibility": null,
            "width": null
          }
        },
        "3e6ceac1b1c447d594b1ffed0ad0d1b6": {
          "model_module": "@jupyter-widgets/controls",
          "model_module_version": "1.5.0",
          "model_name": "FloatProgressModel",
          "state": {
            "_dom_classes": [],
            "_model_module": "@jupyter-widgets/controls",
            "_model_module_version": "1.5.0",
            "_model_name": "FloatProgressModel",
            "_view_count": null,
            "_view_module": "@jupyter-widgets/controls",
            "_view_module_version": "1.5.0",
            "_view_name": "ProgressView",
            "bar_style": "success",
            "description": "",
            "description_tooltip": null,
            "layout": "IPY_MODEL_799d2ff694d84c39b2fb6e1a1393c02d",
            "max": 466081,
            "min": 0,
            "orientation": "horizontal",
            "style": "IPY_MODEL_61903fc72fad4386ada0d5d4b48c31e0",
            "value": 466081
          }
        },
        "4021dfe6a9b94dfdac30e8128ab64a2c": {
          "model_module": "@jupyter-widgets/base",
          "model_module_version": "1.2.0",
          "model_name": "LayoutModel",
          "state": {
            "_model_module": "@jupyter-widgets/base",
            "_model_module_version": "1.2.0",
            "_model_name": "LayoutModel",
            "_view_count": null,
            "_view_module": "@jupyter-widgets/base",
            "_view_module_version": "1.2.0",
            "_view_name": "LayoutView",
            "align_content": null,
            "align_items": null,
            "align_self": null,
            "border": null,
            "bottom": null,
            "display": null,
            "flex": null,
            "flex_flow": null,
            "grid_area": null,
            "grid_auto_columns": null,
            "grid_auto_flow": null,
            "grid_auto_rows": null,
            "grid_column": null,
            "grid_gap": null,
            "grid_row": null,
            "grid_template_areas": null,
            "grid_template_columns": null,
            "grid_template_rows": null,
            "height": null,
            "justify_content": null,
            "justify_items": null,
            "left": null,
            "margin": null,
            "max_height": null,
            "max_width": null,
            "min_height": null,
            "min_width": null,
            "object_fit": null,
            "object_position": null,
            "order": null,
            "overflow": null,
            "overflow_x": null,
            "overflow_y": null,
            "padding": null,
            "right": null,
            "top": null,
            "visibility": null,
            "width": null
          }
        },
        "4be3a62a5e52402c9d76bb68c5869f72": {
          "model_module": "@jupyter-widgets/controls",
          "model_module_version": "1.5.0",
          "model_name": "HTMLModel",
          "state": {
            "_dom_classes": [],
            "_model_module": "@jupyter-widgets/controls",
            "_model_module_version": "1.5.0",
            "_model_name": "HTMLModel",
            "_view_count": null,
            "_view_module": "@jupyter-widgets/controls",
            "_view_module_version": "1.5.0",
            "_view_name": "HTMLView",
            "description": "",
            "description_tooltip": null,
            "layout": "IPY_MODEL_be7bf7b569074ccb9dc021b656b0b8fc",
            "placeholder": "​",
            "style": "IPY_MODEL_916929789aa44847ac02a2b03dba5561",
            "value": " 253M/253M [00:07&lt;00:00, 47.8MB/s]"
          }
        },
        "510560aa85ad44a8b28df95e08de96f9": {
          "model_module": "@jupyter-widgets/base",
          "model_module_version": "1.2.0",
          "model_name": "LayoutModel",
          "state": {
            "_model_module": "@jupyter-widgets/base",
            "_model_module_version": "1.2.0",
            "_model_name": "LayoutModel",
            "_view_count": null,
            "_view_module": "@jupyter-widgets/base",
            "_view_module_version": "1.2.0",
            "_view_name": "LayoutView",
            "align_content": null,
            "align_items": null,
            "align_self": null,
            "border": null,
            "bottom": null,
            "display": null,
            "flex": null,
            "flex_flow": null,
            "grid_area": null,
            "grid_auto_columns": null,
            "grid_auto_flow": null,
            "grid_auto_rows": null,
            "grid_column": null,
            "grid_gap": null,
            "grid_row": null,
            "grid_template_areas": null,
            "grid_template_columns": null,
            "grid_template_rows": null,
            "height": null,
            "justify_content": null,
            "justify_items": null,
            "left": null,
            "margin": null,
            "max_height": null,
            "max_width": null,
            "min_height": null,
            "min_width": null,
            "object_fit": null,
            "object_position": null,
            "order": null,
            "overflow": null,
            "overflow_x": null,
            "overflow_y": null,
            "padding": null,
            "right": null,
            "top": null,
            "visibility": null,
            "width": null
          }
        },
        "51e3ab1b857e4086be615af3a0493205": {
          "model_module": "@jupyter-widgets/controls",
          "model_module_version": "1.5.0",
          "model_name": "HBoxModel",
          "state": {
            "_dom_classes": [],
            "_model_module": "@jupyter-widgets/controls",
            "_model_module_version": "1.5.0",
            "_model_name": "HBoxModel",
            "_view_count": null,
            "_view_module": "@jupyter-widgets/controls",
            "_view_module_version": "1.5.0",
            "_view_name": "HBoxView",
            "box_style": "",
            "children": [
              "IPY_MODEL_d6447ec9688240108822cec3a7ad4abc",
              "IPY_MODEL_bb8b8ffdf90e476b85c18e9356d69175",
              "IPY_MODEL_4be3a62a5e52402c9d76bb68c5869f72"
            ],
            "layout": "IPY_MODEL_2c05c2a9b6ca477781d2683aad9730b2"
          }
        },
        "5b8430e09348413f8eedfb4b6410352d": {
          "model_module": "@jupyter-widgets/controls",
          "model_module_version": "1.5.0",
          "model_name": "DescriptionStyleModel",
          "state": {
            "_model_module": "@jupyter-widgets/controls",
            "_model_module_version": "1.5.0",
            "_model_name": "DescriptionStyleModel",
            "_view_count": null,
            "_view_module": "@jupyter-widgets/base",
            "_view_module_version": "1.2.0",
            "_view_name": "StyleView",
            "description_width": ""
          }
        },
        "5f281e14be8f4bf8920c37224272b86f": {
          "model_module": "@jupyter-widgets/controls",
          "model_module_version": "1.5.0",
          "model_name": "HTMLModel",
          "state": {
            "_dom_classes": [],
            "_model_module": "@jupyter-widgets/controls",
            "_model_module_version": "1.5.0",
            "_model_name": "HTMLModel",
            "_view_count": null,
            "_view_module": "@jupyter-widgets/controls",
            "_view_module_version": "1.5.0",
            "_view_name": "HTMLView",
            "description": "",
            "description_tooltip": null,
            "layout": "IPY_MODEL_510560aa85ad44a8b28df95e08de96f9",
            "placeholder": "​",
            "style": "IPY_MODEL_664c3d6897fd4470a1af5314c2561830",
            "value": " 226k/226k [00:00&lt;00:00, 1.67MB/s]"
          }
        },
        "5f5cb8d1fec34c9392f966b9b3721ccb": {
          "model_module": "@jupyter-widgets/base",
          "model_module_version": "1.2.0",
          "model_name": "LayoutModel",
          "state": {
            "_model_module": "@jupyter-widgets/base",
            "_model_module_version": "1.2.0",
            "_model_name": "LayoutModel",
            "_view_count": null,
            "_view_module": "@jupyter-widgets/base",
            "_view_module_version": "1.2.0",
            "_view_name": "LayoutView",
            "align_content": null,
            "align_items": null,
            "align_self": null,
            "border": null,
            "bottom": null,
            "display": null,
            "flex": null,
            "flex_flow": null,
            "grid_area": null,
            "grid_auto_columns": null,
            "grid_auto_flow": null,
            "grid_auto_rows": null,
            "grid_column": null,
            "grid_gap": null,
            "grid_row": null,
            "grid_template_areas": null,
            "grid_template_columns": null,
            "grid_template_rows": null,
            "height": null,
            "justify_content": null,
            "justify_items": null,
            "left": null,
            "margin": null,
            "max_height": null,
            "max_width": null,
            "min_height": null,
            "min_width": null,
            "object_fit": null,
            "object_position": null,
            "order": null,
            "overflow": null,
            "overflow_x": null,
            "overflow_y": null,
            "padding": null,
            "right": null,
            "top": null,
            "visibility": null,
            "width": null
          }
        },
        "61903fc72fad4386ada0d5d4b48c31e0": {
          "model_module": "@jupyter-widgets/controls",
          "model_module_version": "1.5.0",
          "model_name": "ProgressStyleModel",
          "state": {
            "_model_module": "@jupyter-widgets/controls",
            "_model_module_version": "1.5.0",
            "_model_name": "ProgressStyleModel",
            "_view_count": null,
            "_view_module": "@jupyter-widgets/base",
            "_view_module_version": "1.2.0",
            "_view_name": "StyleView",
            "bar_color": null,
            "description_width": ""
          }
        },
        "664c3d6897fd4470a1af5314c2561830": {
          "model_module": "@jupyter-widgets/controls",
          "model_module_version": "1.5.0",
          "model_name": "DescriptionStyleModel",
          "state": {
            "_model_module": "@jupyter-widgets/controls",
            "_model_module_version": "1.5.0",
            "_model_name": "DescriptionStyleModel",
            "_view_count": null,
            "_view_module": "@jupyter-widgets/base",
            "_view_module_version": "1.2.0",
            "_view_name": "StyleView",
            "description_width": ""
          }
        },
        "6ac902d3feaa4b4983172ac58f6a34e3": {
          "model_module": "@jupyter-widgets/controls",
          "model_module_version": "1.5.0",
          "model_name": "FloatProgressModel",
          "state": {
            "_dom_classes": [],
            "_model_module": "@jupyter-widgets/controls",
            "_model_module_version": "1.5.0",
            "_model_name": "FloatProgressModel",
            "_view_count": null,
            "_view_module": "@jupyter-widgets/controls",
            "_view_module_version": "1.5.0",
            "_view_name": "ProgressView",
            "bar_style": "success",
            "description": "",
            "description_tooltip": null,
            "layout": "IPY_MODEL_2cd1bea06afa4f499bba2ec2377d9548",
            "max": 231508,
            "min": 0,
            "orientation": "horizontal",
            "style": "IPY_MODEL_705d99c044b643a985f718dedffac69b",
            "value": 231508
          }
        },
        "705d99c044b643a985f718dedffac69b": {
          "model_module": "@jupyter-widgets/controls",
          "model_module_version": "1.5.0",
          "model_name": "ProgressStyleModel",
          "state": {
            "_model_module": "@jupyter-widgets/controls",
            "_model_module_version": "1.5.0",
            "_model_name": "ProgressStyleModel",
            "_view_count": null,
            "_view_module": "@jupyter-widgets/base",
            "_view_module_version": "1.2.0",
            "_view_name": "StyleView",
            "bar_color": null,
            "description_width": ""
          }
        },
        "70ac3a541aeb460889c1796b054dd0c0": {
          "model_module": "@jupyter-widgets/controls",
          "model_module_version": "1.5.0",
          "model_name": "DescriptionStyleModel",
          "state": {
            "_model_module": "@jupyter-widgets/controls",
            "_model_module_version": "1.5.0",
            "_model_name": "DescriptionStyleModel",
            "_view_count": null,
            "_view_module": "@jupyter-widgets/base",
            "_view_module_version": "1.2.0",
            "_view_name": "StyleView",
            "description_width": ""
          }
        },
        "7137b5393c234d73b59bc4ca2a29b3b9": {
          "model_module": "@jupyter-widgets/controls",
          "model_module_version": "1.5.0",
          "model_name": "HBoxModel",
          "state": {
            "_dom_classes": [],
            "_model_module": "@jupyter-widgets/controls",
            "_model_module_version": "1.5.0",
            "_model_name": "HBoxModel",
            "_view_count": null,
            "_view_module": "@jupyter-widgets/controls",
            "_view_module_version": "1.5.0",
            "_view_name": "HBoxView",
            "box_style": "",
            "children": [
              "IPY_MODEL_99c9613a2b424eaf8f1f0c45c64d6c93",
              "IPY_MODEL_0f6a28b554ea4f358cd3d34494087dc2",
              "IPY_MODEL_2e71acc5496144a9b620e55d86441795"
            ],
            "layout": "IPY_MODEL_0f2e6a1a95c44fe281ed9d46de8d27ee"
          }
        },
        "72080e5fba72473d9527fbf61dcd4a99": {
          "model_module": "@jupyter-widgets/base",
          "model_module_version": "1.2.0",
          "model_name": "LayoutModel",
          "state": {
            "_model_module": "@jupyter-widgets/base",
            "_model_module_version": "1.2.0",
            "_model_name": "LayoutModel",
            "_view_count": null,
            "_view_module": "@jupyter-widgets/base",
            "_view_module_version": "1.2.0",
            "_view_name": "LayoutView",
            "align_content": null,
            "align_items": null,
            "align_self": null,
            "border": null,
            "bottom": null,
            "display": null,
            "flex": null,
            "flex_flow": null,
            "grid_area": null,
            "grid_auto_columns": null,
            "grid_auto_flow": null,
            "grid_auto_rows": null,
            "grid_column": null,
            "grid_gap": null,
            "grid_row": null,
            "grid_template_areas": null,
            "grid_template_columns": null,
            "grid_template_rows": null,
            "height": null,
            "justify_content": null,
            "justify_items": null,
            "left": null,
            "margin": null,
            "max_height": null,
            "max_width": null,
            "min_height": null,
            "min_width": null,
            "object_fit": null,
            "object_position": null,
            "order": null,
            "overflow": null,
            "overflow_x": null,
            "overflow_y": null,
            "padding": null,
            "right": null,
            "top": null,
            "visibility": null,
            "width": null
          }
        },
        "73bf60cad21244eab367930c2ac73fa9": {
          "model_module": "@jupyter-widgets/base",
          "model_module_version": "1.2.0",
          "model_name": "LayoutModel",
          "state": {
            "_model_module": "@jupyter-widgets/base",
            "_model_module_version": "1.2.0",
            "_model_name": "LayoutModel",
            "_view_count": null,
            "_view_module": "@jupyter-widgets/base",
            "_view_module_version": "1.2.0",
            "_view_name": "LayoutView",
            "align_content": null,
            "align_items": null,
            "align_self": null,
            "border": null,
            "bottom": null,
            "display": null,
            "flex": null,
            "flex_flow": null,
            "grid_area": null,
            "grid_auto_columns": null,
            "grid_auto_flow": null,
            "grid_auto_rows": null,
            "grid_column": null,
            "grid_gap": null,
            "grid_row": null,
            "grid_template_areas": null,
            "grid_template_columns": null,
            "grid_template_rows": null,
            "height": null,
            "justify_content": null,
            "justify_items": null,
            "left": null,
            "margin": null,
            "max_height": null,
            "max_width": null,
            "min_height": null,
            "min_width": null,
            "object_fit": null,
            "object_position": null,
            "order": null,
            "overflow": null,
            "overflow_x": null,
            "overflow_y": null,
            "padding": null,
            "right": null,
            "top": null,
            "visibility": null,
            "width": null
          }
        },
        "78a6061f340f404389f30f7845b56acd": {
          "model_module": "@jupyter-widgets/controls",
          "model_module_version": "1.5.0",
          "model_name": "HBoxModel",
          "state": {
            "_dom_classes": [],
            "_model_module": "@jupyter-widgets/controls",
            "_model_module_version": "1.5.0",
            "_model_name": "HBoxModel",
            "_view_count": null,
            "_view_module": "@jupyter-widgets/controls",
            "_view_module_version": "1.5.0",
            "_view_name": "HBoxView",
            "box_style": "",
            "children": [
              "IPY_MODEL_91841a8cbef348abb5c0357a46e16b56",
              "IPY_MODEL_3e6ceac1b1c447d594b1ffed0ad0d1b6",
              "IPY_MODEL_1325db1b390a4a7a99b4d6c3a720c00f"
            ],
            "layout": "IPY_MODEL_b1d4db34c4df45faae3e333e9778c873"
          }
        },
        "799d2ff694d84c39b2fb6e1a1393c02d": {
          "model_module": "@jupyter-widgets/base",
          "model_module_version": "1.2.0",
          "model_name": "LayoutModel",
          "state": {
            "_model_module": "@jupyter-widgets/base",
            "_model_module_version": "1.2.0",
            "_model_name": "LayoutModel",
            "_view_count": null,
            "_view_module": "@jupyter-widgets/base",
            "_view_module_version": "1.2.0",
            "_view_name": "LayoutView",
            "align_content": null,
            "align_items": null,
            "align_self": null,
            "border": null,
            "bottom": null,
            "display": null,
            "flex": null,
            "flex_flow": null,
            "grid_area": null,
            "grid_auto_columns": null,
            "grid_auto_flow": null,
            "grid_auto_rows": null,
            "grid_column": null,
            "grid_gap": null,
            "grid_row": null,
            "grid_template_areas": null,
            "grid_template_columns": null,
            "grid_template_rows": null,
            "height": null,
            "justify_content": null,
            "justify_items": null,
            "left": null,
            "margin": null,
            "max_height": null,
            "max_width": null,
            "min_height": null,
            "min_width": null,
            "object_fit": null,
            "object_position": null,
            "order": null,
            "overflow": null,
            "overflow_x": null,
            "overflow_y": null,
            "padding": null,
            "right": null,
            "top": null,
            "visibility": null,
            "width": null
          }
        },
        "89e3d3ab81fa408a8ec378f3412708d6": {
          "model_module": "@jupyter-widgets/base",
          "model_module_version": "1.2.0",
          "model_name": "LayoutModel",
          "state": {
            "_model_module": "@jupyter-widgets/base",
            "_model_module_version": "1.2.0",
            "_model_name": "LayoutModel",
            "_view_count": null,
            "_view_module": "@jupyter-widgets/base",
            "_view_module_version": "1.2.0",
            "_view_name": "LayoutView",
            "align_content": null,
            "align_items": null,
            "align_self": null,
            "border": null,
            "bottom": null,
            "display": null,
            "flex": null,
            "flex_flow": null,
            "grid_area": null,
            "grid_auto_columns": null,
            "grid_auto_flow": null,
            "grid_auto_rows": null,
            "grid_column": null,
            "grid_gap": null,
            "grid_row": null,
            "grid_template_areas": null,
            "grid_template_columns": null,
            "grid_template_rows": null,
            "height": null,
            "justify_content": null,
            "justify_items": null,
            "left": null,
            "margin": null,
            "max_height": null,
            "max_width": null,
            "min_height": null,
            "min_width": null,
            "object_fit": null,
            "object_position": null,
            "order": null,
            "overflow": null,
            "overflow_x": null,
            "overflow_y": null,
            "padding": null,
            "right": null,
            "top": null,
            "visibility": null,
            "width": null
          }
        },
        "916929789aa44847ac02a2b03dba5561": {
          "model_module": "@jupyter-widgets/controls",
          "model_module_version": "1.5.0",
          "model_name": "DescriptionStyleModel",
          "state": {
            "_model_module": "@jupyter-widgets/controls",
            "_model_module_version": "1.5.0",
            "_model_name": "DescriptionStyleModel",
            "_view_count": null,
            "_view_module": "@jupyter-widgets/base",
            "_view_module_version": "1.2.0",
            "_view_name": "StyleView",
            "description_width": ""
          }
        },
        "91841a8cbef348abb5c0357a46e16b56": {
          "model_module": "@jupyter-widgets/controls",
          "model_module_version": "1.5.0",
          "model_name": "HTMLModel",
          "state": {
            "_dom_classes": [],
            "_model_module": "@jupyter-widgets/controls",
            "_model_module_version": "1.5.0",
            "_model_name": "HTMLModel",
            "_view_count": null,
            "_view_module": "@jupyter-widgets/controls",
            "_view_module_version": "1.5.0",
            "_view_name": "HTMLView",
            "description": "",
            "description_tooltip": null,
            "layout": "IPY_MODEL_ea2dc4c36061420a8e6283cfa58550bb",
            "placeholder": "​",
            "style": "IPY_MODEL_5b8430e09348413f8eedfb4b6410352d",
            "value": "Downloading: 100%"
          }
        },
        "9382426943c54bb1b3e7d70e1d2def57": {
          "model_module": "@jupyter-widgets/controls",
          "model_module_version": "1.5.0",
          "model_name": "DescriptionStyleModel",
          "state": {
            "_model_module": "@jupyter-widgets/controls",
            "_model_module_version": "1.5.0",
            "_model_name": "DescriptionStyleModel",
            "_view_count": null,
            "_view_module": "@jupyter-widgets/base",
            "_view_module_version": "1.2.0",
            "_view_name": "StyleView",
            "description_width": ""
          }
        },
        "99c9613a2b424eaf8f1f0c45c64d6c93": {
          "model_module": "@jupyter-widgets/controls",
          "model_module_version": "1.5.0",
          "model_name": "HTMLModel",
          "state": {
            "_dom_classes": [],
            "_model_module": "@jupyter-widgets/controls",
            "_model_module_version": "1.5.0",
            "_model_name": "HTMLModel",
            "_view_count": null,
            "_view_module": "@jupyter-widgets/controls",
            "_view_module_version": "1.5.0",
            "_view_name": "HTMLView",
            "description": "",
            "description_tooltip": null,
            "layout": "IPY_MODEL_e3bc0efe40484b6aab92f03c636d5ea4",
            "placeholder": "​",
            "style": "IPY_MODEL_e964d743936d471e8a5f59f0c8e7339d",
            "value": "Downloading: 100%"
          }
        },
        "a58cca841c31481ebb9dfd127b18311a": {
          "model_module": "@jupyter-widgets/controls",
          "model_module_version": "1.5.0",
          "model_name": "DescriptionStyleModel",
          "state": {
            "_model_module": "@jupyter-widgets/controls",
            "_model_module_version": "1.5.0",
            "_model_name": "DescriptionStyleModel",
            "_view_count": null,
            "_view_module": "@jupyter-widgets/base",
            "_view_module_version": "1.2.0",
            "_view_name": "StyleView",
            "description_width": ""
          }
        },
        "ac545658d0f14b09b07af485037b1b8f": {
          "model_module": "@jupyter-widgets/controls",
          "model_module_version": "1.5.0",
          "model_name": "HTMLModel",
          "state": {
            "_dom_classes": [],
            "_model_module": "@jupyter-widgets/controls",
            "_model_module_version": "1.5.0",
            "_model_name": "HTMLModel",
            "_view_count": null,
            "_view_module": "@jupyter-widgets/controls",
            "_view_module_version": "1.5.0",
            "_view_name": "HTMLView",
            "description": "",
            "description_tooltip": null,
            "layout": "IPY_MODEL_d6199bb93bad4227a27346e9c48511e5",
            "placeholder": "​",
            "style": "IPY_MODEL_9382426943c54bb1b3e7d70e1d2def57",
            "value": "Downloading: 100%"
          }
        },
        "ad0aaa30867547ba9b49485846ba4362": {
          "model_module": "@jupyter-widgets/controls",
          "model_module_version": "1.5.0",
          "model_name": "HBoxModel",
          "state": {
            "_dom_classes": [],
            "_model_module": "@jupyter-widgets/controls",
            "_model_module_version": "1.5.0",
            "_model_name": "HBoxModel",
            "_view_count": null,
            "_view_module": "@jupyter-widgets/controls",
            "_view_module_version": "1.5.0",
            "_view_name": "HBoxView",
            "box_style": "",
            "children": [
              "IPY_MODEL_0e308828f6f9464ba17488c48e1932e5",
              "IPY_MODEL_bdcdfc0cfcc04184ace94c2ede74b9a8",
              "IPY_MODEL_c14a708f319e4702bd368033cc06e913"
            ],
            "layout": "IPY_MODEL_72080e5fba72473d9527fbf61dcd4a99"
          }
        },
        "b1d4db34c4df45faae3e333e9778c873": {
          "model_module": "@jupyter-widgets/base",
          "model_module_version": "1.2.0",
          "model_name": "LayoutModel",
          "state": {
            "_model_module": "@jupyter-widgets/base",
            "_model_module_version": "1.2.0",
            "_model_name": "LayoutModel",
            "_view_count": null,
            "_view_module": "@jupyter-widgets/base",
            "_view_module_version": "1.2.0",
            "_view_name": "LayoutView",
            "align_content": null,
            "align_items": null,
            "align_self": null,
            "border": null,
            "bottom": null,
            "display": null,
            "flex": null,
            "flex_flow": null,
            "grid_area": null,
            "grid_auto_columns": null,
            "grid_auto_flow": null,
            "grid_auto_rows": null,
            "grid_column": null,
            "grid_gap": null,
            "grid_row": null,
            "grid_template_areas": null,
            "grid_template_columns": null,
            "grid_template_rows": null,
            "height": null,
            "justify_content": null,
            "justify_items": null,
            "left": null,
            "margin": null,
            "max_height": null,
            "max_width": null,
            "min_height": null,
            "min_width": null,
            "object_fit": null,
            "object_position": null,
            "order": null,
            "overflow": null,
            "overflow_x": null,
            "overflow_y": null,
            "padding": null,
            "right": null,
            "top": null,
            "visibility": null,
            "width": null
          }
        },
        "b833aab47a414f148b360d6fb3c2db94": {
          "model_module": "@jupyter-widgets/controls",
          "model_module_version": "1.5.0",
          "model_name": "HTMLModel",
          "state": {
            "_dom_classes": [],
            "_model_module": "@jupyter-widgets/controls",
            "_model_module_version": "1.5.0",
            "_model_name": "HTMLModel",
            "_view_count": null,
            "_view_module": "@jupyter-widgets/controls",
            "_view_module_version": "1.5.0",
            "_view_name": "HTMLView",
            "description": "",
            "description_tooltip": null,
            "layout": "IPY_MODEL_89e3d3ab81fa408a8ec378f3412708d6",
            "placeholder": "​",
            "style": "IPY_MODEL_bd8cd75bdba54118aa1e29f4049997f9",
            "value": "Downloading: 100%"
          }
        },
        "bada46356b6f4dd88755d276630cf383": {
          "model_module": "@jupyter-widgets/controls",
          "model_module_version": "1.5.0",
          "model_name": "HTMLModel",
          "state": {
            "_dom_classes": [],
            "_model_module": "@jupyter-widgets/controls",
            "_model_module_version": "1.5.0",
            "_model_name": "HTMLModel",
            "_view_count": null,
            "_view_module": "@jupyter-widgets/controls",
            "_view_module_version": "1.5.0",
            "_view_name": "HTMLView",
            "description": "",
            "description_tooltip": null,
            "layout": "IPY_MODEL_d5b95d2aac6746148e5020e0e357ac74",
            "placeholder": "​",
            "style": "IPY_MODEL_0438fe14ee9f417cae32614e22fac925",
            "value": " 489/489 [00:00&lt;00:00, 9.79kB/s]"
          }
        },
        "bb4307d8ce5045f69b554c6c40eb38cb": {
          "model_module": "@jupyter-widgets/base",
          "model_module_version": "1.2.0",
          "model_name": "LayoutModel",
          "state": {
            "_model_module": "@jupyter-widgets/base",
            "_model_module_version": "1.2.0",
            "_model_name": "LayoutModel",
            "_view_count": null,
            "_view_module": "@jupyter-widgets/base",
            "_view_module_version": "1.2.0",
            "_view_name": "LayoutView",
            "align_content": null,
            "align_items": null,
            "align_self": null,
            "border": null,
            "bottom": null,
            "display": null,
            "flex": null,
            "flex_flow": null,
            "grid_area": null,
            "grid_auto_columns": null,
            "grid_auto_flow": null,
            "grid_auto_rows": null,
            "grid_column": null,
            "grid_gap": null,
            "grid_row": null,
            "grid_template_areas": null,
            "grid_template_columns": null,
            "grid_template_rows": null,
            "height": null,
            "justify_content": null,
            "justify_items": null,
            "left": null,
            "margin": null,
            "max_height": null,
            "max_width": null,
            "min_height": null,
            "min_width": null,
            "object_fit": null,
            "object_position": null,
            "order": null,
            "overflow": null,
            "overflow_x": null,
            "overflow_y": null,
            "padding": null,
            "right": null,
            "top": null,
            "visibility": null,
            "width": null
          }
        },
        "bb8b8ffdf90e476b85c18e9356d69175": {
          "model_module": "@jupyter-widgets/controls",
          "model_module_version": "1.5.0",
          "model_name": "FloatProgressModel",
          "state": {
            "_dom_classes": [],
            "_model_module": "@jupyter-widgets/controls",
            "_model_module_version": "1.5.0",
            "_model_name": "FloatProgressModel",
            "_view_count": null,
            "_view_module": "@jupyter-widgets/controls",
            "_view_module_version": "1.5.0",
            "_view_name": "ProgressView",
            "bar_style": "success",
            "description": "",
            "description_tooltip": null,
            "layout": "IPY_MODEL_f665255b04754c65a0698ddaf2dd65f7",
            "max": 265486777,
            "min": 0,
            "orientation": "horizontal",
            "style": "IPY_MODEL_d06b94fbd0704dc1a812ac0f72bbb49d",
            "value": 265486777
          }
        },
        "bd8cd75bdba54118aa1e29f4049997f9": {
          "model_module": "@jupyter-widgets/controls",
          "model_module_version": "1.5.0",
          "model_name": "DescriptionStyleModel",
          "state": {
            "_model_module": "@jupyter-widgets/controls",
            "_model_module_version": "1.5.0",
            "_model_name": "DescriptionStyleModel",
            "_view_count": null,
            "_view_module": "@jupyter-widgets/base",
            "_view_module_version": "1.2.0",
            "_view_name": "StyleView",
            "description_width": ""
          }
        },
        "bdcdfc0cfcc04184ace94c2ede74b9a8": {
          "model_module": "@jupyter-widgets/controls",
          "model_module_version": "1.5.0",
          "model_name": "FloatProgressModel",
          "state": {
            "_dom_classes": [],
            "_model_module": "@jupyter-widgets/controls",
            "_model_module_version": "1.5.0",
            "_model_name": "FloatProgressModel",
            "_view_count": null,
            "_view_module": "@jupyter-widgets/controls",
            "_view_module_version": "1.5.0",
            "_view_name": "ProgressView",
            "bar_style": "success",
            "description": "",
            "description_tooltip": null,
            "layout": "IPY_MODEL_73bf60cad21244eab367930c2ac73fa9",
            "max": 112,
            "min": 0,
            "orientation": "horizontal",
            "style": "IPY_MODEL_3268ad67e950495ea131c8e5f2260f7b",
            "value": 112
          }
        },
        "be7bf7b569074ccb9dc021b656b0b8fc": {
          "model_module": "@jupyter-widgets/base",
          "model_module_version": "1.2.0",
          "model_name": "LayoutModel",
          "state": {
            "_model_module": "@jupyter-widgets/base",
            "_model_module_version": "1.2.0",
            "_model_name": "LayoutModel",
            "_view_count": null,
            "_view_module": "@jupyter-widgets/base",
            "_view_module_version": "1.2.0",
            "_view_name": "LayoutView",
            "align_content": null,
            "align_items": null,
            "align_self": null,
            "border": null,
            "bottom": null,
            "display": null,
            "flex": null,
            "flex_flow": null,
            "grid_area": null,
            "grid_auto_columns": null,
            "grid_auto_flow": null,
            "grid_auto_rows": null,
            "grid_column": null,
            "grid_gap": null,
            "grid_row": null,
            "grid_template_areas": null,
            "grid_template_columns": null,
            "grid_template_rows": null,
            "height": null,
            "justify_content": null,
            "justify_items": null,
            "left": null,
            "margin": null,
            "max_height": null,
            "max_width": null,
            "min_height": null,
            "min_width": null,
            "object_fit": null,
            "object_position": null,
            "order": null,
            "overflow": null,
            "overflow_x": null,
            "overflow_y": null,
            "padding": null,
            "right": null,
            "top": null,
            "visibility": null,
            "width": null
          }
        },
        "c14a708f319e4702bd368033cc06e913": {
          "model_module": "@jupyter-widgets/controls",
          "model_module_version": "1.5.0",
          "model_name": "HTMLModel",
          "state": {
            "_dom_classes": [],
            "_model_module": "@jupyter-widgets/controls",
            "_model_module_version": "1.5.0",
            "_model_name": "HTMLModel",
            "_view_count": null,
            "_view_module": "@jupyter-widgets/controls",
            "_view_module_version": "1.5.0",
            "_view_name": "HTMLView",
            "description": "",
            "description_tooltip": null,
            "layout": "IPY_MODEL_37c65ec6c7fc450f880e81640fa4d243",
            "placeholder": "​",
            "style": "IPY_MODEL_daefc948309447c788e46fb1748d8146",
            "value": " 112/112 [00:00&lt;00:00, 2.38kB/s]"
          }
        },
        "c909e077b8c04986873bfe5d062d113c": {
          "model_module": "@jupyter-widgets/controls",
          "model_module_version": "1.5.0",
          "model_name": "ProgressStyleModel",
          "state": {
            "_model_module": "@jupyter-widgets/controls",
            "_model_module_version": "1.5.0",
            "_model_name": "ProgressStyleModel",
            "_view_count": null,
            "_view_module": "@jupyter-widgets/base",
            "_view_module_version": "1.2.0",
            "_view_name": "StyleView",
            "bar_color": null,
            "description_width": ""
          }
        },
        "d06b94fbd0704dc1a812ac0f72bbb49d": {
          "model_module": "@jupyter-widgets/controls",
          "model_module_version": "1.5.0",
          "model_name": "ProgressStyleModel",
          "state": {
            "_model_module": "@jupyter-widgets/controls",
            "_model_module_version": "1.5.0",
            "_model_name": "ProgressStyleModel",
            "_view_count": null,
            "_view_module": "@jupyter-widgets/base",
            "_view_module_version": "1.2.0",
            "_view_name": "StyleView",
            "bar_color": null,
            "description_width": ""
          }
        },
        "d17f28a5feed49f98e69596d672aa436": {
          "model_module": "@jupyter-widgets/base",
          "model_module_version": "1.2.0",
          "model_name": "LayoutModel",
          "state": {
            "_model_module": "@jupyter-widgets/base",
            "_model_module_version": "1.2.0",
            "_model_name": "LayoutModel",
            "_view_count": null,
            "_view_module": "@jupyter-widgets/base",
            "_view_module_version": "1.2.0",
            "_view_name": "LayoutView",
            "align_content": null,
            "align_items": null,
            "align_self": null,
            "border": null,
            "bottom": null,
            "display": null,
            "flex": null,
            "flex_flow": null,
            "grid_area": null,
            "grid_auto_columns": null,
            "grid_auto_flow": null,
            "grid_auto_rows": null,
            "grid_column": null,
            "grid_gap": null,
            "grid_row": null,
            "grid_template_areas": null,
            "grid_template_columns": null,
            "grid_template_rows": null,
            "height": null,
            "justify_content": null,
            "justify_items": null,
            "left": null,
            "margin": null,
            "max_height": null,
            "max_width": null,
            "min_height": null,
            "min_width": null,
            "object_fit": null,
            "object_position": null,
            "order": null,
            "overflow": null,
            "overflow_x": null,
            "overflow_y": null,
            "padding": null,
            "right": null,
            "top": null,
            "visibility": null,
            "width": null
          }
        },
        "d5b95d2aac6746148e5020e0e357ac74": {
          "model_module": "@jupyter-widgets/base",
          "model_module_version": "1.2.0",
          "model_name": "LayoutModel",
          "state": {
            "_model_module": "@jupyter-widgets/base",
            "_model_module_version": "1.2.0",
            "_model_name": "LayoutModel",
            "_view_count": null,
            "_view_module": "@jupyter-widgets/base",
            "_view_module_version": "1.2.0",
            "_view_name": "LayoutView",
            "align_content": null,
            "align_items": null,
            "align_self": null,
            "border": null,
            "bottom": null,
            "display": null,
            "flex": null,
            "flex_flow": null,
            "grid_area": null,
            "grid_auto_columns": null,
            "grid_auto_flow": null,
            "grid_auto_rows": null,
            "grid_column": null,
            "grid_gap": null,
            "grid_row": null,
            "grid_template_areas": null,
            "grid_template_columns": null,
            "grid_template_rows": null,
            "height": null,
            "justify_content": null,
            "justify_items": null,
            "left": null,
            "margin": null,
            "max_height": null,
            "max_width": null,
            "min_height": null,
            "min_width": null,
            "object_fit": null,
            "object_position": null,
            "order": null,
            "overflow": null,
            "overflow_x": null,
            "overflow_y": null,
            "padding": null,
            "right": null,
            "top": null,
            "visibility": null,
            "width": null
          }
        },
        "d6199bb93bad4227a27346e9c48511e5": {
          "model_module": "@jupyter-widgets/base",
          "model_module_version": "1.2.0",
          "model_name": "LayoutModel",
          "state": {
            "_model_module": "@jupyter-widgets/base",
            "_model_module_version": "1.2.0",
            "_model_name": "LayoutModel",
            "_view_count": null,
            "_view_module": "@jupyter-widgets/base",
            "_view_module_version": "1.2.0",
            "_view_name": "LayoutView",
            "align_content": null,
            "align_items": null,
            "align_self": null,
            "border": null,
            "bottom": null,
            "display": null,
            "flex": null,
            "flex_flow": null,
            "grid_area": null,
            "grid_auto_columns": null,
            "grid_auto_flow": null,
            "grid_auto_rows": null,
            "grid_column": null,
            "grid_gap": null,
            "grid_row": null,
            "grid_template_areas": null,
            "grid_template_columns": null,
            "grid_template_rows": null,
            "height": null,
            "justify_content": null,
            "justify_items": null,
            "left": null,
            "margin": null,
            "max_height": null,
            "max_width": null,
            "min_height": null,
            "min_width": null,
            "object_fit": null,
            "object_position": null,
            "order": null,
            "overflow": null,
            "overflow_x": null,
            "overflow_y": null,
            "padding": null,
            "right": null,
            "top": null,
            "visibility": null,
            "width": null
          }
        },
        "d6447ec9688240108822cec3a7ad4abc": {
          "model_module": "@jupyter-widgets/controls",
          "model_module_version": "1.5.0",
          "model_name": "HTMLModel",
          "state": {
            "_dom_classes": [],
            "_model_module": "@jupyter-widgets/controls",
            "_model_module_version": "1.5.0",
            "_model_name": "HTMLModel",
            "_view_count": null,
            "_view_module": "@jupyter-widgets/controls",
            "_view_module_version": "1.5.0",
            "_view_name": "HTMLView",
            "description": "",
            "description_tooltip": null,
            "layout": "IPY_MODEL_1d24a86a25a84fed9a481409eec6bb35",
            "placeholder": "​",
            "style": "IPY_MODEL_05aa4fd94d404036bd1350aa62a84203",
            "value": "Downloading: 100%"
          }
        },
        "daefc948309447c788e46fb1748d8146": {
          "model_module": "@jupyter-widgets/controls",
          "model_module_version": "1.5.0",
          "model_name": "DescriptionStyleModel",
          "state": {
            "_model_module": "@jupyter-widgets/controls",
            "_model_module_version": "1.5.0",
            "_model_name": "DescriptionStyleModel",
            "_view_count": null,
            "_view_module": "@jupyter-widgets/base",
            "_view_module_version": "1.2.0",
            "_view_name": "StyleView",
            "description_width": ""
          }
        },
        "dd0a7022210a49c5b81c3c3fa37e6dcc": {
          "model_module": "@jupyter-widgets/controls",
          "model_module_version": "1.5.0",
          "model_name": "ProgressStyleModel",
          "state": {
            "_model_module": "@jupyter-widgets/controls",
            "_model_module_version": "1.5.0",
            "_model_name": "ProgressStyleModel",
            "_view_count": null,
            "_view_module": "@jupyter-widgets/base",
            "_view_module_version": "1.2.0",
            "_view_name": "StyleView",
            "bar_color": null,
            "description_width": ""
          }
        },
        "e05ff12dd3e940889edacebe6beef302": {
          "model_module": "@jupyter-widgets/base",
          "model_module_version": "1.2.0",
          "model_name": "LayoutModel",
          "state": {
            "_model_module": "@jupyter-widgets/base",
            "_model_module_version": "1.2.0",
            "_model_name": "LayoutModel",
            "_view_count": null,
            "_view_module": "@jupyter-widgets/base",
            "_view_module_version": "1.2.0",
            "_view_name": "LayoutView",
            "align_content": null,
            "align_items": null,
            "align_self": null,
            "border": null,
            "bottom": null,
            "display": null,
            "flex": null,
            "flex_flow": null,
            "grid_area": null,
            "grid_auto_columns": null,
            "grid_auto_flow": null,
            "grid_auto_rows": null,
            "grid_column": null,
            "grid_gap": null,
            "grid_row": null,
            "grid_template_areas": null,
            "grid_template_columns": null,
            "grid_template_rows": null,
            "height": null,
            "justify_content": null,
            "justify_items": null,
            "left": null,
            "margin": null,
            "max_height": null,
            "max_width": null,
            "min_height": null,
            "min_width": null,
            "object_fit": null,
            "object_position": null,
            "order": null,
            "overflow": null,
            "overflow_x": null,
            "overflow_y": null,
            "padding": null,
            "right": null,
            "top": null,
            "visibility": null,
            "width": null
          }
        },
        "e3bc0efe40484b6aab92f03c636d5ea4": {
          "model_module": "@jupyter-widgets/base",
          "model_module_version": "1.2.0",
          "model_name": "LayoutModel",
          "state": {
            "_model_module": "@jupyter-widgets/base",
            "_model_module_version": "1.2.0",
            "_model_name": "LayoutModel",
            "_view_count": null,
            "_view_module": "@jupyter-widgets/base",
            "_view_module_version": "1.2.0",
            "_view_name": "LayoutView",
            "align_content": null,
            "align_items": null,
            "align_self": null,
            "border": null,
            "bottom": null,
            "display": null,
            "flex": null,
            "flex_flow": null,
            "grid_area": null,
            "grid_auto_columns": null,
            "grid_auto_flow": null,
            "grid_auto_rows": null,
            "grid_column": null,
            "grid_gap": null,
            "grid_row": null,
            "grid_template_areas": null,
            "grid_template_columns": null,
            "grid_template_rows": null,
            "height": null,
            "justify_content": null,
            "justify_items": null,
            "left": null,
            "margin": null,
            "max_height": null,
            "max_width": null,
            "min_height": null,
            "min_width": null,
            "object_fit": null,
            "object_position": null,
            "order": null,
            "overflow": null,
            "overflow_x": null,
            "overflow_y": null,
            "padding": null,
            "right": null,
            "top": null,
            "visibility": null,
            "width": null
          }
        },
        "e964d743936d471e8a5f59f0c8e7339d": {
          "model_module": "@jupyter-widgets/controls",
          "model_module_version": "1.5.0",
          "model_name": "DescriptionStyleModel",
          "state": {
            "_model_module": "@jupyter-widgets/controls",
            "_model_module_version": "1.5.0",
            "_model_name": "DescriptionStyleModel",
            "_view_count": null,
            "_view_module": "@jupyter-widgets/base",
            "_view_module_version": "1.2.0",
            "_view_name": "StyleView",
            "description_width": ""
          }
        },
        "ea2dc4c36061420a8e6283cfa58550bb": {
          "model_module": "@jupyter-widgets/base",
          "model_module_version": "1.2.0",
          "model_name": "LayoutModel",
          "state": {
            "_model_module": "@jupyter-widgets/base",
            "_model_module_version": "1.2.0",
            "_model_name": "LayoutModel",
            "_view_count": null,
            "_view_module": "@jupyter-widgets/base",
            "_view_module_version": "1.2.0",
            "_view_name": "LayoutView",
            "align_content": null,
            "align_items": null,
            "align_self": null,
            "border": null,
            "bottom": null,
            "display": null,
            "flex": null,
            "flex_flow": null,
            "grid_area": null,
            "grid_auto_columns": null,
            "grid_auto_flow": null,
            "grid_auto_rows": null,
            "grid_column": null,
            "grid_gap": null,
            "grid_row": null,
            "grid_template_areas": null,
            "grid_template_columns": null,
            "grid_template_rows": null,
            "height": null,
            "justify_content": null,
            "justify_items": null,
            "left": null,
            "margin": null,
            "max_height": null,
            "max_width": null,
            "min_height": null,
            "min_width": null,
            "object_fit": null,
            "object_position": null,
            "order": null,
            "overflow": null,
            "overflow_x": null,
            "overflow_y": null,
            "padding": null,
            "right": null,
            "top": null,
            "visibility": null,
            "width": null
          }
        },
        "f665255b04754c65a0698ddaf2dd65f7": {
          "model_module": "@jupyter-widgets/base",
          "model_module_version": "1.2.0",
          "model_name": "LayoutModel",
          "state": {
            "_model_module": "@jupyter-widgets/base",
            "_model_module_version": "1.2.0",
            "_model_name": "LayoutModel",
            "_view_count": null,
            "_view_module": "@jupyter-widgets/base",
            "_view_module_version": "1.2.0",
            "_view_name": "LayoutView",
            "align_content": null,
            "align_items": null,
            "align_self": null,
            "border": null,
            "bottom": null,
            "display": null,
            "flex": null,
            "flex_flow": null,
            "grid_area": null,
            "grid_auto_columns": null,
            "grid_auto_flow": null,
            "grid_auto_rows": null,
            "grid_column": null,
            "grid_gap": null,
            "grid_row": null,
            "grid_template_areas": null,
            "grid_template_columns": null,
            "grid_template_rows": null,
            "height": null,
            "justify_content": null,
            "justify_items": null,
            "left": null,
            "margin": null,
            "max_height": null,
            "max_width": null,
            "min_height": null,
            "min_width": null,
            "object_fit": null,
            "object_position": null,
            "order": null,
            "overflow": null,
            "overflow_x": null,
            "overflow_y": null,
            "padding": null,
            "right": null,
            "top": null,
            "visibility": null,
            "width": null
          }
        },
        "f7fa229e8c8d455aac7dcc36e10d3700": {
          "model_module": "@jupyter-widgets/controls",
          "model_module_version": "1.5.0",
          "model_name": "DescriptionStyleModel",
          "state": {
            "_model_module": "@jupyter-widgets/controls",
            "_model_module_version": "1.5.0",
            "_model_name": "DescriptionStyleModel",
            "_view_count": null,
            "_view_module": "@jupyter-widgets/base",
            "_view_module_version": "1.2.0",
            "_view_name": "StyleView",
            "description_width": ""
          }
        },
        "fbd478f424684fae85cd444e038a3f0b": {
          "model_module": "@jupyter-widgets/controls",
          "model_module_version": "1.5.0",
          "model_name": "HBoxModel",
          "state": {
            "_dom_classes": [],
            "_model_module": "@jupyter-widgets/controls",
            "_model_module_version": "1.5.0",
            "_model_name": "HBoxModel",
            "_view_count": null,
            "_view_module": "@jupyter-widgets/controls",
            "_view_module_version": "1.5.0",
            "_view_name": "HBoxView",
            "box_style": "",
            "children": [
              "IPY_MODEL_ac545658d0f14b09b07af485037b1b8f",
              "IPY_MODEL_1bca35eb8e0f43a8a3eb5c5c80785125",
              "IPY_MODEL_bada46356b6f4dd88755d276630cf383"
            ],
            "layout": "IPY_MODEL_d17f28a5feed49f98e69596d672aa436"
          }
        }
      }
    }
  },
  "nbformat": 4,
  "nbformat_minor": 0
}