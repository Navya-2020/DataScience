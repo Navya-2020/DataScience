{
  "nbformat": 4,
  "nbformat_minor": 0,
  "metadata": {
    "colab": {
      "name": "CosineSimilarity_Glove_Embeddings.ipynb",
      "provenance": []
    },
    "kernelspec": {
      "name": "python3",
      "display_name": "Python 3"
    },
    "language_info": {
      "name": "python"
    }
  },
  "cells": [
    {
      "cell_type": "code",
      "execution_count": null,
      "metadata": {
        "colab": {
          "base_uri": "https://localhost:8080/"
        },
        "id": "4ftUWJtRfGIX",
        "outputId": "a2f26e6b-77c9-46ab-9856-b4bac521baa6"
      },
      "outputs": [
        {
          "output_type": "stream",
          "name": "stdout",
          "text": [
            "Looking in indexes: https://pypi.org/simple, https://us-python.pkg.dev/colab-wheels/public/simple/\n",
            "Requirement already satisfied: tweet-preprocessor in /usr/local/lib/python3.7/dist-packages (0.6.0)\n"
          ]
        }
      ],
      "source": [
        "! pip install tweet-preprocessor"
      ]
    },
    {
      "cell_type": "markdown",
      "source": [
        "Data Cleanup"
      ],
      "metadata": {
        "id": "oEjmJIhobk6f"
      }
    },
    {
      "cell_type": "code",
      "source": [
        "# custum function to clean the dataset (combining tweet_preprocessor and reguar expression)\n",
        "import preprocessor as p\n",
        "def clean_text(df):\n",
        "    #set up punctuations we want to be replaced\n",
        "    REPLACE_NO_SPACE = re.compile(\"(\\.)|(\\;)|(\\:)|(\\!)|(\\')|(\\?)|(\\,)|(\\\")|(\\|)|(\\()|(\\))|(\\[)|(\\])|(\\%)|(\\$)|(\\>)|(\\<)|(\\{)|(\\})\")\n",
        "    REPLACE_WITH_SPACE = re.compile(\"(<br\\s/><br\\s/?)|(-)|(/)|(:).\")\n",
        "    tempArr = []\n",
        "    for line in df:\n",
        "        # send to tweet_processor\n",
        "        tmpL = p.clean(line)\n",
        "        # remove puctuation\n",
        "        tmpL = REPLACE_NO_SPACE.sub(\"\", tmpL.lower()) # convert all tweets to lower cases\n",
        "        tmpL = REPLACE_WITH_SPACE.sub(\" \", tmpL)\n",
        "        tempArr.append(tmpL)\n",
        "    return tempArr"
      ],
      "metadata": {
        "id": "h3zYzGBnfMaq"
      },
      "execution_count": null,
      "outputs": []
    },
    {
      "cell_type": "markdown",
      "source": [
        "Read Data"
      ],
      "metadata": {
        "id": "9g_c_-R1bw7e"
      }
    },
    {
      "cell_type": "code",
      "source": [
        "import pandas as pd\n",
        "import numpy as np\n",
        "import re\n",
        "Tweets= pd.read_csv('/content/sample_data/Twitter-Tweets-c.csv',encoding='utf8', engine='python',error_bad_lines=False)\n",
        "Tweets = Tweets.drop(['id','label'],axis=1)\n",
        "Tweets_A = Tweets[0:5000]\n",
        "Tweets_B = Tweets[5000:10000]"
      ],
      "metadata": {
        "colab": {
          "base_uri": "https://localhost:8080/"
        },
        "id": "oRaXxa_HfQFL",
        "outputId": "8e57d19f-20f1-4945-a28a-e14c0dcd83bd"
      },
      "execution_count": null,
      "outputs": [
        {
          "output_type": "stream",
          "name": "stderr",
          "text": [
            "/usr/local/lib/python3.7/dist-packages/IPython/core/interactiveshell.py:2882: FutureWarning: The error_bad_lines argument has been deprecated and will be removed in a future version.\n",
            "\n",
            "\n",
            "  exec(code_obj, self.user_global_ns, self.user_ns)\n"
          ]
        }
      ]
    },
    {
      "cell_type": "code",
      "source": [
        "Tweets_A['Tweet-cleaned'] = clean_text(Tweets_A['tweet'].apply(str))\n",
        "Tweets_B['Tweet-cleaned'] = clean_text(Tweets_B['tweet'].apply(str))\n",
        "corpus_A = list(Tweets_A['Tweet-cleaned'])\n",
        "corpus_B = list(Tweets_B['Tweet-cleaned'])"
      ],
      "metadata": {
        "colab": {
          "base_uri": "https://localhost:8080/"
        },
        "id": "Bz6GsfHjfZV4",
        "outputId": "a15f4598-540c-49fc-8e60-aef112b2d367"
      },
      "execution_count": null,
      "outputs": [
        {
          "output_type": "stream",
          "name": "stderr",
          "text": [
            "/usr/local/lib/python3.7/dist-packages/ipykernel_launcher.py:1: SettingWithCopyWarning: \n",
            "A value is trying to be set on a copy of a slice from a DataFrame.\n",
            "Try using .loc[row_indexer,col_indexer] = value instead\n",
            "\n",
            "See the caveats in the documentation: https://pandas.pydata.org/pandas-docs/stable/user_guide/indexing.html#returning-a-view-versus-a-copy\n",
            "  \"\"\"Entry point for launching an IPython kernel.\n",
            "/usr/local/lib/python3.7/dist-packages/ipykernel_launcher.py:2: SettingWithCopyWarning: \n",
            "A value is trying to be set on a copy of a slice from a DataFrame.\n",
            "Try using .loc[row_indexer,col_indexer] = value instead\n",
            "\n",
            "See the caveats in the documentation: https://pandas.pydata.org/pandas-docs/stable/user_guide/indexing.html#returning-a-view-versus-a-copy\n",
            "  \n"
          ]
        }
      ]
    },
    {
      "cell_type": "code",
      "source": [
        "from nltk.corpus import stopwords\n",
        "import nltk\n",
        "nltk.download('stopwords')\n",
        "stopwords=set(stopwords.words('english'))\n",
        "\n",
        "\n",
        "def remove_stopwords(corpus):\n",
        "    output_array=[]\n",
        "    for sentence in corpus:\n",
        "        temp_list=[]\n",
        "        for word in sentence.split():\n",
        "            if word.lower() not in stopwords:\n",
        "                temp_list.append(word)\n",
        "        output_array.append(' '.join(temp_list))\n",
        "    return output_array\n",
        "\n",
        "corpus_A=remove_stopwords(corpus_A)\n",
        "corpus_B=remove_stopwords(corpus_B)\n"
      ],
      "metadata": {
        "colab": {
          "base_uri": "https://localhost:8080/"
        },
        "id": "WNYYYAZrff6f",
        "outputId": "099ecebf-fdad-4fae-c7cc-69757e7487cc"
      },
      "execution_count": null,
      "outputs": [
        {
          "output_type": "stream",
          "name": "stderr",
          "text": [
            "[nltk_data] Downloading package stopwords to /root/nltk_data...\n",
            "[nltk_data]   Package stopwords is already up-to-date!\n"
          ]
        }
      ]
    },
    {
      "cell_type": "code",
      "source": [
        "corpus_A[0:5]"
      ],
      "metadata": {
        "colab": {
          "base_uri": "https://localhost:8080/"
        },
        "id": "qZSx62oKsvOv",
        "outputId": "46e73dfd-1df8-43b5-a153-a5643403d430"
      },
      "execution_count": null,
      "outputs": [
        {
          "output_type": "execute_result",
          "data": {
            "text/plain": [
              "['father dysfunctional selfish drags kids dysfunction',\n",
              " 'thanks credit cant use cause dont offer wheelchair vans pdx',\n",
              " 'bihday majesty',\n",
              " 'love u take u time ur',\n",
              " 'facts guide society']"
            ]
          },
          "metadata": {},
          "execution_count": 15
        }
      ]
    },
    {
      "cell_type": "code",
      "source": [
        "corpus_B[0:5]"
      ],
      "metadata": {
        "colab": {
          "base_uri": "https://localhost:8080/"
        },
        "id": "MqiBgP5mszxu",
        "outputId": "1824492e-b8d3-44c5-ca09-f4c3a00d4ba5"
      },
      "execution_count": null,
      "outputs": [
        {
          "output_type": "execute_result",
          "data": {
            "text/plain": [
              "['holy shit trump person cheering n e new jersey like lied',\n",
              " 'days hyper helllove storms work day ending earlay',\n",
              " 'anyone recognize bandit took forks bike &amp bike station tools help pls',\n",
              " 'govt transformed says lists achievements',\n",
              " 'dog']"
            ]
          },
          "metadata": {},
          "execution_count": 16
        }
      ]
    },
    {
      "cell_type": "markdown",
      "source": [
        "Glove Implementation"
      ],
      "metadata": {
        "id": "MEXRbXTNcAcb"
      }
    },
    {
      "cell_type": "code",
      "source": [
        "from scipy import spatial\n",
        "import gensim.downloader as api\n",
        "\n",
        "model = api.load(\"glove-twitter-200\")"
      ],
      "metadata": {
        "id": "W7u7O8Y4fhvU"
      },
      "execution_count": null,
      "outputs": []
    },
    {
      "cell_type": "code",
      "source": [
        "def preprocess(s):\n",
        "    return [i.lower() for i in s.split()]\n",
        "\n",
        "def get_vector(s):\n",
        "  try:\n",
        "    return np.sum(np.array([model[i] for i in preprocess(s)]), axis=0)\n",
        "\n",
        "  except:\"word ' ' not in vocabulary\"\n",
        "  pass"
      ],
      "metadata": {
        "id": "M5U4OeGzpnXQ"
      },
      "execution_count": null,
      "outputs": []
    },
    {
      "cell_type": "code",
      "source": [
        "def cosine_similarity(i, j):\n",
        "     nominator = np.dot(i, j)\n",
        "    \n",
        "     a_norm = np.sqrt(np.sum(i**2))\n",
        "     b_norm = np.sqrt(np.sum(j**2))\n",
        "    \n",
        "     denominator = a_norm * b_norm\n",
        "    \n",
        "     cosine_similarity = nominator / denominator\n",
        "     return cosine_similarity"
      ],
      "metadata": {
        "id": "HhrALyFtpqe2"
      },
      "execution_count": null,
      "outputs": []
    },
    {
      "cell_type": "code",
      "source": [
        "case_list = []\n",
        "for i in range(0,5000):\n",
        "  list = [corpus_A[i],corpus_B[i]]\n",
        "  case_list.append(list)"
      ],
      "metadata": {
        "id": "lxuxHxuDpw9J"
      },
      "execution_count": null,
      "outputs": []
    },
    {
      "cell_type": "code",
      "source": [
        "df = pd.DataFrame(case_list, columns=['Sentences_A', 'Sentences_B'])\n",
        "df['Cosine_similarity']=\"\""
      ],
      "metadata": {
        "id": "MEP4xhg0sZ9J"
      },
      "execution_count": null,
      "outputs": []
    },
    {
      "cell_type": "code",
      "source": [
        "df"
      ],
      "metadata": {
        "colab": {
          "base_uri": "https://localhost:8080/",
          "height": 424
        },
        "id": "YhFJpm2asm4A",
        "outputId": "f2eae39c-a816-46d3-e86f-d9f7469550e2"
      },
      "execution_count": null,
      "outputs": [
        {
          "output_type": "execute_result",
          "data": {
            "text/plain": [
              "                                            Sentences_A  \\\n",
              "0     father dysfunctional selfish drags kids dysfun...   \n",
              "1     thanks credit cant use cause dont offer wheelc...   \n",
              "2                                        bihday majesty   \n",
              "3                                 love u take u time ur   \n",
              "4                                   facts guide society   \n",
              "...                                                 ...   \n",
              "4995  wasnt attack lgbt community america well may i...   \n",
              "4996  looking forward catching designer lucky enough...   \n",
              "4997                                apps help keep &amp   \n",
              "4998                never go bed without wakeup without   \n",
              "4999  reaction volatile situation without thought ma...   \n",
              "\n",
              "                                            Sentences_B Cosine_similarity  \n",
              "0     holy shit trump person cheering n e new jersey...                    \n",
              "1     days hyper helllove storms work day ending earlay                    \n",
              "2     anyone recognize bandit took forks bike &amp b...                    \n",
              "3              govt transformed says lists achievements                    \n",
              "4                                                   dog                    \n",
              "...                                                 ...               ...  \n",
              "4995                         routine whack evening walk                    \n",
              "4996                                im dead still happy                    \n",
              "4997           kingdom claimant count rate may previous                    \n",
              "4998                                         rip friend                    \n",
              "4999                                    open loving hea                    \n",
              "\n",
              "[5000 rows x 3 columns]"
            ],
            "text/html": [
              "\n",
              "  <div id=\"df-e2eb062b-5a69-45e1-ba64-8b8aa84c2bd7\">\n",
              "    <div class=\"colab-df-container\">\n",
              "      <div>\n",
              "<style scoped>\n",
              "    .dataframe tbody tr th:only-of-type {\n",
              "        vertical-align: middle;\n",
              "    }\n",
              "\n",
              "    .dataframe tbody tr th {\n",
              "        vertical-align: top;\n",
              "    }\n",
              "\n",
              "    .dataframe thead th {\n",
              "        text-align: right;\n",
              "    }\n",
              "</style>\n",
              "<table border=\"1\" class=\"dataframe\">\n",
              "  <thead>\n",
              "    <tr style=\"text-align: right;\">\n",
              "      <th></th>\n",
              "      <th>Sentences_A</th>\n",
              "      <th>Sentences_B</th>\n",
              "      <th>Cosine_similarity</th>\n",
              "    </tr>\n",
              "  </thead>\n",
              "  <tbody>\n",
              "    <tr>\n",
              "      <th>0</th>\n",
              "      <td>father dysfunctional selfish drags kids dysfun...</td>\n",
              "      <td>holy shit trump person cheering n e new jersey...</td>\n",
              "      <td></td>\n",
              "    </tr>\n",
              "    <tr>\n",
              "      <th>1</th>\n",
              "      <td>thanks credit cant use cause dont offer wheelc...</td>\n",
              "      <td>days hyper helllove storms work day ending earlay</td>\n",
              "      <td></td>\n",
              "    </tr>\n",
              "    <tr>\n",
              "      <th>2</th>\n",
              "      <td>bihday majesty</td>\n",
              "      <td>anyone recognize bandit took forks bike &amp;amp b...</td>\n",
              "      <td></td>\n",
              "    </tr>\n",
              "    <tr>\n",
              "      <th>3</th>\n",
              "      <td>love u take u time ur</td>\n",
              "      <td>govt transformed says lists achievements</td>\n",
              "      <td></td>\n",
              "    </tr>\n",
              "    <tr>\n",
              "      <th>4</th>\n",
              "      <td>facts guide society</td>\n",
              "      <td>dog</td>\n",
              "      <td></td>\n",
              "    </tr>\n",
              "    <tr>\n",
              "      <th>...</th>\n",
              "      <td>...</td>\n",
              "      <td>...</td>\n",
              "      <td>...</td>\n",
              "    </tr>\n",
              "    <tr>\n",
              "      <th>4995</th>\n",
              "      <td>wasnt attack lgbt community america well may i...</td>\n",
              "      <td>routine whack evening walk</td>\n",
              "      <td></td>\n",
              "    </tr>\n",
              "    <tr>\n",
              "      <th>4996</th>\n",
              "      <td>looking forward catching designer lucky enough...</td>\n",
              "      <td>im dead still happy</td>\n",
              "      <td></td>\n",
              "    </tr>\n",
              "    <tr>\n",
              "      <th>4997</th>\n",
              "      <td>apps help keep &amp;amp</td>\n",
              "      <td>kingdom claimant count rate may previous</td>\n",
              "      <td></td>\n",
              "    </tr>\n",
              "    <tr>\n",
              "      <th>4998</th>\n",
              "      <td>never go bed without wakeup without</td>\n",
              "      <td>rip friend</td>\n",
              "      <td></td>\n",
              "    </tr>\n",
              "    <tr>\n",
              "      <th>4999</th>\n",
              "      <td>reaction volatile situation without thought ma...</td>\n",
              "      <td>open loving hea</td>\n",
              "      <td></td>\n",
              "    </tr>\n",
              "  </tbody>\n",
              "</table>\n",
              "<p>5000 rows × 3 columns</p>\n",
              "</div>\n",
              "      <button class=\"colab-df-convert\" onclick=\"convertToInteractive('df-e2eb062b-5a69-45e1-ba64-8b8aa84c2bd7')\"\n",
              "              title=\"Convert this dataframe to an interactive table.\"\n",
              "              style=\"display:none;\">\n",
              "        \n",
              "  <svg xmlns=\"http://www.w3.org/2000/svg\" height=\"24px\"viewBox=\"0 0 24 24\"\n",
              "       width=\"24px\">\n",
              "    <path d=\"M0 0h24v24H0V0z\" fill=\"none\"/>\n",
              "    <path d=\"M18.56 5.44l.94 2.06.94-2.06 2.06-.94-2.06-.94-.94-2.06-.94 2.06-2.06.94zm-11 1L8.5 8.5l.94-2.06 2.06-.94-2.06-.94L8.5 2.5l-.94 2.06-2.06.94zm10 10l.94 2.06.94-2.06 2.06-.94-2.06-.94-.94-2.06-.94 2.06-2.06.94z\"/><path d=\"M17.41 7.96l-1.37-1.37c-.4-.4-.92-.59-1.43-.59-.52 0-1.04.2-1.43.59L10.3 9.45l-7.72 7.72c-.78.78-.78 2.05 0 2.83L4 21.41c.39.39.9.59 1.41.59.51 0 1.02-.2 1.41-.59l7.78-7.78 2.81-2.81c.8-.78.8-2.07 0-2.86zM5.41 20L4 18.59l7.72-7.72 1.47 1.35L5.41 20z\"/>\n",
              "  </svg>\n",
              "      </button>\n",
              "      \n",
              "  <style>\n",
              "    .colab-df-container {\n",
              "      display:flex;\n",
              "      flex-wrap:wrap;\n",
              "      gap: 12px;\n",
              "    }\n",
              "\n",
              "    .colab-df-convert {\n",
              "      background-color: #E8F0FE;\n",
              "      border: none;\n",
              "      border-radius: 50%;\n",
              "      cursor: pointer;\n",
              "      display: none;\n",
              "      fill: #1967D2;\n",
              "      height: 32px;\n",
              "      padding: 0 0 0 0;\n",
              "      width: 32px;\n",
              "    }\n",
              "\n",
              "    .colab-df-convert:hover {\n",
              "      background-color: #E2EBFA;\n",
              "      box-shadow: 0px 1px 2px rgba(60, 64, 67, 0.3), 0px 1px 3px 1px rgba(60, 64, 67, 0.15);\n",
              "      fill: #174EA6;\n",
              "    }\n",
              "\n",
              "    [theme=dark] .colab-df-convert {\n",
              "      background-color: #3B4455;\n",
              "      fill: #D2E3FC;\n",
              "    }\n",
              "\n",
              "    [theme=dark] .colab-df-convert:hover {\n",
              "      background-color: #434B5C;\n",
              "      box-shadow: 0px 1px 3px 1px rgba(0, 0, 0, 0.15);\n",
              "      filter: drop-shadow(0px 1px 2px rgba(0, 0, 0, 0.3));\n",
              "      fill: #FFFFFF;\n",
              "    }\n",
              "  </style>\n",
              "\n",
              "      <script>\n",
              "        const buttonEl =\n",
              "          document.querySelector('#df-e2eb062b-5a69-45e1-ba64-8b8aa84c2bd7 button.colab-df-convert');\n",
              "        buttonEl.style.display =\n",
              "          google.colab.kernel.accessAllowed ? 'block' : 'none';\n",
              "\n",
              "        async function convertToInteractive(key) {\n",
              "          const element = document.querySelector('#df-e2eb062b-5a69-45e1-ba64-8b8aa84c2bd7');\n",
              "          const dataTable =\n",
              "            await google.colab.kernel.invokeFunction('convertToInteractive',\n",
              "                                                     [key], {});\n",
              "          if (!dataTable) return;\n",
              "\n",
              "          const docLinkHtml = 'Like what you see? Visit the ' +\n",
              "            '<a target=\"_blank\" href=https://colab.research.google.com/notebooks/data_table.ipynb>data table notebook</a>'\n",
              "            + ' to learn more about interactive tables.';\n",
              "          element.innerHTML = '';\n",
              "          dataTable['output_type'] = 'display_data';\n",
              "          await google.colab.output.renderOutput(dataTable, element);\n",
              "          const docLink = document.createElement('div');\n",
              "          docLink.innerHTML = docLinkHtml;\n",
              "          element.appendChild(docLink);\n",
              "        }\n",
              "      </script>\n",
              "    </div>\n",
              "  </div>\n",
              "  "
            ]
          },
          "metadata": {},
          "execution_count": 22
        }
      ]
    },
    {
      "cell_type": "code",
      "source": [
        "for i, j in df.iterrows():\n",
        "  a=get_vector(df['Sentences_A'].values[i])\n",
        "  b=get_vector(df['Sentences_B'].values[i])\n",
        "  try:\n",
        "    df['Cosine_similarity'].values[i] = cosine_similarity(a, b)\n",
        "  except:'float' and 'NoneType'\n",
        "  pass\n"
      ],
      "metadata": {
        "colab": {
          "base_uri": "https://localhost:8080/"
        },
        "id": "m3eYqUp_s6C8",
        "outputId": "18ad95e6-09e7-48db-dc62-57dd7b39b889"
      },
      "execution_count": null,
      "outputs": [
        {
          "output_type": "stream",
          "name": "stderr",
          "text": [
            "/usr/local/lib/python3.7/dist-packages/ipykernel_launcher.py:9: RuntimeWarning: invalid value encountered in true_divide\n",
            "  if __name__ == '__main__':\n"
          ]
        }
      ]
    },
    {
      "cell_type": "code",
      "source": [
        "df"
      ],
      "metadata": {
        "colab": {
          "base_uri": "https://localhost:8080/",
          "height": 424
        },
        "id": "awikQJLbtV0W",
        "outputId": "7aee01d1-f365-46c8-97b5-fd8bc8dce638"
      },
      "execution_count": null,
      "outputs": [
        {
          "output_type": "execute_result",
          "data": {
            "text/plain": [
              "                                            Sentences_A  \\\n",
              "0     father dysfunctional selfish drags kids dysfun...   \n",
              "1     thanks credit cant use cause dont offer wheelc...   \n",
              "2                                        bihday majesty   \n",
              "3                                 love u take u time ur   \n",
              "4                                   facts guide society   \n",
              "...                                                 ...   \n",
              "4995  wasnt attack lgbt community america well may i...   \n",
              "4996  looking forward catching designer lucky enough...   \n",
              "4997                                apps help keep &amp   \n",
              "4998                never go bed without wakeup without   \n",
              "4999  reaction volatile situation without thought ma...   \n",
              "\n",
              "                                            Sentences_B Cosine_similarity  \n",
              "0     holy shit trump person cheering n e new jersey...          0.610082  \n",
              "1     days hyper helllove storms work day ending earlay                    \n",
              "2     anyone recognize bandit took forks bike &amp b...                    \n",
              "3              govt transformed says lists achievements          0.520411  \n",
              "4                                                   dog          0.480086  \n",
              "...                                                 ...               ...  \n",
              "4995                         routine whack evening walk          0.709571  \n",
              "4996                                im dead still happy          0.816771  \n",
              "4997           kingdom claimant count rate may previous                    \n",
              "4998                                         rip friend           0.67144  \n",
              "4999                                    open loving hea          0.671613  \n",
              "\n",
              "[5000 rows x 3 columns]"
            ],
            "text/html": [
              "\n",
              "  <div id=\"df-ca3b78b8-d828-41e3-bb0e-4da63b3926fb\">\n",
              "    <div class=\"colab-df-container\">\n",
              "      <div>\n",
              "<style scoped>\n",
              "    .dataframe tbody tr th:only-of-type {\n",
              "        vertical-align: middle;\n",
              "    }\n",
              "\n",
              "    .dataframe tbody tr th {\n",
              "        vertical-align: top;\n",
              "    }\n",
              "\n",
              "    .dataframe thead th {\n",
              "        text-align: right;\n",
              "    }\n",
              "</style>\n",
              "<table border=\"1\" class=\"dataframe\">\n",
              "  <thead>\n",
              "    <tr style=\"text-align: right;\">\n",
              "      <th></th>\n",
              "      <th>Sentences_A</th>\n",
              "      <th>Sentences_B</th>\n",
              "      <th>Cosine_similarity</th>\n",
              "    </tr>\n",
              "  </thead>\n",
              "  <tbody>\n",
              "    <tr>\n",
              "      <th>0</th>\n",
              "      <td>father dysfunctional selfish drags kids dysfun...</td>\n",
              "      <td>holy shit trump person cheering n e new jersey...</td>\n",
              "      <td>0.610082</td>\n",
              "    </tr>\n",
              "    <tr>\n",
              "      <th>1</th>\n",
              "      <td>thanks credit cant use cause dont offer wheelc...</td>\n",
              "      <td>days hyper helllove storms work day ending earlay</td>\n",
              "      <td></td>\n",
              "    </tr>\n",
              "    <tr>\n",
              "      <th>2</th>\n",
              "      <td>bihday majesty</td>\n",
              "      <td>anyone recognize bandit took forks bike &amp;amp b...</td>\n",
              "      <td></td>\n",
              "    </tr>\n",
              "    <tr>\n",
              "      <th>3</th>\n",
              "      <td>love u take u time ur</td>\n",
              "      <td>govt transformed says lists achievements</td>\n",
              "      <td>0.520411</td>\n",
              "    </tr>\n",
              "    <tr>\n",
              "      <th>4</th>\n",
              "      <td>facts guide society</td>\n",
              "      <td>dog</td>\n",
              "      <td>0.480086</td>\n",
              "    </tr>\n",
              "    <tr>\n",
              "      <th>...</th>\n",
              "      <td>...</td>\n",
              "      <td>...</td>\n",
              "      <td>...</td>\n",
              "    </tr>\n",
              "    <tr>\n",
              "      <th>4995</th>\n",
              "      <td>wasnt attack lgbt community america well may i...</td>\n",
              "      <td>routine whack evening walk</td>\n",
              "      <td>0.709571</td>\n",
              "    </tr>\n",
              "    <tr>\n",
              "      <th>4996</th>\n",
              "      <td>looking forward catching designer lucky enough...</td>\n",
              "      <td>im dead still happy</td>\n",
              "      <td>0.816771</td>\n",
              "    </tr>\n",
              "    <tr>\n",
              "      <th>4997</th>\n",
              "      <td>apps help keep &amp;amp</td>\n",
              "      <td>kingdom claimant count rate may previous</td>\n",
              "      <td></td>\n",
              "    </tr>\n",
              "    <tr>\n",
              "      <th>4998</th>\n",
              "      <td>never go bed without wakeup without</td>\n",
              "      <td>rip friend</td>\n",
              "      <td>0.67144</td>\n",
              "    </tr>\n",
              "    <tr>\n",
              "      <th>4999</th>\n",
              "      <td>reaction volatile situation without thought ma...</td>\n",
              "      <td>open loving hea</td>\n",
              "      <td>0.671613</td>\n",
              "    </tr>\n",
              "  </tbody>\n",
              "</table>\n",
              "<p>5000 rows × 3 columns</p>\n",
              "</div>\n",
              "      <button class=\"colab-df-convert\" onclick=\"convertToInteractive('df-ca3b78b8-d828-41e3-bb0e-4da63b3926fb')\"\n",
              "              title=\"Convert this dataframe to an interactive table.\"\n",
              "              style=\"display:none;\">\n",
              "        \n",
              "  <svg xmlns=\"http://www.w3.org/2000/svg\" height=\"24px\"viewBox=\"0 0 24 24\"\n",
              "       width=\"24px\">\n",
              "    <path d=\"M0 0h24v24H0V0z\" fill=\"none\"/>\n",
              "    <path d=\"M18.56 5.44l.94 2.06.94-2.06 2.06-.94-2.06-.94-.94-2.06-.94 2.06-2.06.94zm-11 1L8.5 8.5l.94-2.06 2.06-.94-2.06-.94L8.5 2.5l-.94 2.06-2.06.94zm10 10l.94 2.06.94-2.06 2.06-.94-2.06-.94-.94-2.06-.94 2.06-2.06.94z\"/><path d=\"M17.41 7.96l-1.37-1.37c-.4-.4-.92-.59-1.43-.59-.52 0-1.04.2-1.43.59L10.3 9.45l-7.72 7.72c-.78.78-.78 2.05 0 2.83L4 21.41c.39.39.9.59 1.41.59.51 0 1.02-.2 1.41-.59l7.78-7.78 2.81-2.81c.8-.78.8-2.07 0-2.86zM5.41 20L4 18.59l7.72-7.72 1.47 1.35L5.41 20z\"/>\n",
              "  </svg>\n",
              "      </button>\n",
              "      \n",
              "  <style>\n",
              "    .colab-df-container {\n",
              "      display:flex;\n",
              "      flex-wrap:wrap;\n",
              "      gap: 12px;\n",
              "    }\n",
              "\n",
              "    .colab-df-convert {\n",
              "      background-color: #E8F0FE;\n",
              "      border: none;\n",
              "      border-radius: 50%;\n",
              "      cursor: pointer;\n",
              "      display: none;\n",
              "      fill: #1967D2;\n",
              "      height: 32px;\n",
              "      padding: 0 0 0 0;\n",
              "      width: 32px;\n",
              "    }\n",
              "\n",
              "    .colab-df-convert:hover {\n",
              "      background-color: #E2EBFA;\n",
              "      box-shadow: 0px 1px 2px rgba(60, 64, 67, 0.3), 0px 1px 3px 1px rgba(60, 64, 67, 0.15);\n",
              "      fill: #174EA6;\n",
              "    }\n",
              "\n",
              "    [theme=dark] .colab-df-convert {\n",
              "      background-color: #3B4455;\n",
              "      fill: #D2E3FC;\n",
              "    }\n",
              "\n",
              "    [theme=dark] .colab-df-convert:hover {\n",
              "      background-color: #434B5C;\n",
              "      box-shadow: 0px 1px 3px 1px rgba(0, 0, 0, 0.15);\n",
              "      filter: drop-shadow(0px 1px 2px rgba(0, 0, 0, 0.3));\n",
              "      fill: #FFFFFF;\n",
              "    }\n",
              "  </style>\n",
              "\n",
              "      <script>\n",
              "        const buttonEl =\n",
              "          document.querySelector('#df-ca3b78b8-d828-41e3-bb0e-4da63b3926fb button.colab-df-convert');\n",
              "        buttonEl.style.display =\n",
              "          google.colab.kernel.accessAllowed ? 'block' : 'none';\n",
              "\n",
              "        async function convertToInteractive(key) {\n",
              "          const element = document.querySelector('#df-ca3b78b8-d828-41e3-bb0e-4da63b3926fb');\n",
              "          const dataTable =\n",
              "            await google.colab.kernel.invokeFunction('convertToInteractive',\n",
              "                                                     [key], {});\n",
              "          if (!dataTable) return;\n",
              "\n",
              "          const docLinkHtml = 'Like what you see? Visit the ' +\n",
              "            '<a target=\"_blank\" href=https://colab.research.google.com/notebooks/data_table.ipynb>data table notebook</a>'\n",
              "            + ' to learn more about interactive tables.';\n",
              "          element.innerHTML = '';\n",
              "          dataTable['output_type'] = 'display_data';\n",
              "          await google.colab.output.renderOutput(dataTable, element);\n",
              "          const docLink = document.createElement('div');\n",
              "          docLink.innerHTML = docLinkHtml;\n",
              "          element.appendChild(docLink);\n",
              "        }\n",
              "      </script>\n",
              "    </div>\n",
              "  </div>\n",
              "  "
            ]
          },
          "metadata": {},
          "execution_count": 24
        }
      ]
    },
    {
      "cell_type": "code",
      "source": [
        "df.to_excel(\"/content/sample_data/Twitter_Tweets_Output - index(0).xlsx\") "
      ],
      "metadata": {
        "id": "yl_1HzfTzqJG"
      },
      "execution_count": null,
      "outputs": []
    }
  ]
}